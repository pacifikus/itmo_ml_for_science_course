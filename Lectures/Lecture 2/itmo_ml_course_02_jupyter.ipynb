{
  "nbformat": 4,
  "nbformat_minor": 0,
  "metadata": {
    "colab": {
      "provenance": [],
      "toc_visible": true
    },
    "kernelspec": {
      "name": "python3",
      "display_name": "Python 3"
    },
    "language_info": {
      "name": "python"
    },
    "widgets": {
      "application/vnd.jupyter.widget-state+json": {
        "a8f5509f994a4f728e1e2b7b8299fa45": {
          "model_module": "@jupyter-widgets/controls",
          "model_name": "IntSliderModel",
          "model_module_version": "1.5.0",
          "state": {
            "_dom_classes": [],
            "_model_module": "@jupyter-widgets/controls",
            "_model_module_version": "1.5.0",
            "_model_name": "IntSliderModel",
            "_view_count": null,
            "_view_module": "@jupyter-widgets/controls",
            "_view_module_version": "1.5.0",
            "_view_name": "IntSliderView",
            "continuous_update": true,
            "description": "",
            "description_tooltip": null,
            "disabled": false,
            "layout": "IPY_MODEL_b00537f06d0342aba77f1bcb1e9607ff",
            "max": 100,
            "min": 0,
            "orientation": "horizontal",
            "readout": true,
            "readout_format": "d",
            "step": 1,
            "style": "IPY_MODEL_fbc95167a0b74f3e908e10207af8aa90",
            "value": 36
          }
        },
        "b00537f06d0342aba77f1bcb1e9607ff": {
          "model_module": "@jupyter-widgets/base",
          "model_name": "LayoutModel",
          "model_module_version": "1.2.0",
          "state": {
            "_model_module": "@jupyter-widgets/base",
            "_model_module_version": "1.2.0",
            "_model_name": "LayoutModel",
            "_view_count": null,
            "_view_module": "@jupyter-widgets/base",
            "_view_module_version": "1.2.0",
            "_view_name": "LayoutView",
            "align_content": null,
            "align_items": null,
            "align_self": null,
            "border": null,
            "bottom": null,
            "display": null,
            "flex": null,
            "flex_flow": null,
            "grid_area": null,
            "grid_auto_columns": null,
            "grid_auto_flow": null,
            "grid_auto_rows": null,
            "grid_column": null,
            "grid_gap": null,
            "grid_row": null,
            "grid_template_areas": null,
            "grid_template_columns": null,
            "grid_template_rows": null,
            "height": null,
            "justify_content": null,
            "justify_items": null,
            "left": null,
            "margin": null,
            "max_height": null,
            "max_width": null,
            "min_height": null,
            "min_width": null,
            "object_fit": null,
            "object_position": null,
            "order": null,
            "overflow": null,
            "overflow_x": null,
            "overflow_y": null,
            "padding": null,
            "right": null,
            "top": null,
            "visibility": null,
            "width": null
          }
        },
        "fbc95167a0b74f3e908e10207af8aa90": {
          "model_module": "@jupyter-widgets/controls",
          "model_name": "SliderStyleModel",
          "model_module_version": "1.5.0",
          "state": {
            "_model_module": "@jupyter-widgets/controls",
            "_model_module_version": "1.5.0",
            "_model_name": "SliderStyleModel",
            "_view_count": null,
            "_view_module": "@jupyter-widgets/base",
            "_view_module_version": "1.2.0",
            "_view_name": "StyleView",
            "description_width": "",
            "handle_color": null
          }
        },
        "a75fa45e53814a73a9805d5ee00ecfab": {
          "model_module": "@jupyter-widgets/controls",
          "model_name": "VBoxModel",
          "model_module_version": "1.5.0",
          "state": {
            "_dom_classes": [
              "widget-interact"
            ],
            "_model_module": "@jupyter-widgets/controls",
            "_model_module_version": "1.5.0",
            "_model_name": "VBoxModel",
            "_view_count": null,
            "_view_module": "@jupyter-widgets/controls",
            "_view_module_version": "1.5.0",
            "_view_name": "VBoxView",
            "box_style": "",
            "children": [
              "IPY_MODEL_c5129bdc2fd1432f8de486e95fff2e7e",
              "IPY_MODEL_8afcdcf0ab414201912d1a552957b4c3"
            ],
            "layout": "IPY_MODEL_be15a4e6f3ab4bc4a1c9404c8935d0a8"
          }
        },
        "c5129bdc2fd1432f8de486e95fff2e7e": {
          "model_module": "@jupyter-widgets/controls",
          "model_name": "SelectMultipleModel",
          "model_module_version": "1.5.0",
          "state": {
            "_dom_classes": [],
            "_model_module": "@jupyter-widgets/controls",
            "_model_module_version": "1.5.0",
            "_model_name": "SelectMultipleModel",
            "_options_labels": [
              "MSFT",
              "AMZN",
              "IBM",
              "GOOG",
              "AAPL"
            ],
            "_view_count": null,
            "_view_module": "@jupyter-widgets/controls",
            "_view_module_version": "1.5.0",
            "_view_name": "SelectMultipleView",
            "description": "Symbols",
            "description_tooltip": null,
            "disabled": false,
            "index": [
              0,
              1,
              2
            ],
            "layout": "IPY_MODEL_37f82558bdab4dfda9acb79cf4d98fa9",
            "rows": 5,
            "style": "IPY_MODEL_bdadda7e29aa407383b0ebbc5d29108d"
          }
        },
        "8afcdcf0ab414201912d1a552957b4c3": {
          "model_module": "@jupyter-widgets/output",
          "model_name": "OutputModel",
          "model_module_version": "1.0.0",
          "state": {
            "_dom_classes": [],
            "_model_module": "@jupyter-widgets/output",
            "_model_module_version": "1.0.0",
            "_model_name": "OutputModel",
            "_view_count": null,
            "_view_module": "@jupyter-widgets/output",
            "_view_module_version": "1.0.0",
            "_view_name": "OutputView",
            "layout": "IPY_MODEL_bbcb5d436bfd4f268fa491de75044b5c",
            "msg_id": "",
            "outputs": [
              {
                "output_type": "display_data",
                "data": {
                  "text/html": "\n<style>\n  #altair-viz-7fbc657f8fcf4a8c8706590238ee3247.vega-embed {\n    width: 100%;\n    display: flex;\n  }\n\n  #altair-viz-7fbc657f8fcf4a8c8706590238ee3247.vega-embed details,\n  #altair-viz-7fbc657f8fcf4a8c8706590238ee3247.vega-embed details summary {\n    position: relative;\n  }\n</style>\n<div id=\"altair-viz-7fbc657f8fcf4a8c8706590238ee3247\"></div>\n<script type=\"text/javascript\">\n  var VEGA_DEBUG = (typeof VEGA_DEBUG == \"undefined\") ? {} : VEGA_DEBUG;\n  (function(spec, embedOpt){\n    let outputDiv = document.currentScript.previousElementSibling;\n    if (outputDiv.id !== \"altair-viz-7fbc657f8fcf4a8c8706590238ee3247\") {\n      outputDiv = document.getElementById(\"altair-viz-7fbc657f8fcf4a8c8706590238ee3247\");\n    }\n\n    const paths = {\n      \"vega\": \"https://cdn.jsdelivr.net/npm/vega@5?noext\",\n      \"vega-lib\": \"https://cdn.jsdelivr.net/npm/vega-lib?noext\",\n      \"vega-lite\": \"https://cdn.jsdelivr.net/npm/vega-lite@5.20.1?noext\",\n      \"vega-embed\": \"https://cdn.jsdelivr.net/npm/vega-embed@6?noext\",\n    };\n\n    function maybeLoadScript(lib, version) {\n      var key = `${lib.replace(\"-\", \"\")}_version`;\n      return (VEGA_DEBUG[key] == version) ?\n        Promise.resolve(paths[lib]) :\n        new Promise(function(resolve, reject) {\n          var s = document.createElement('script');\n          document.getElementsByTagName(\"head\")[0].appendChild(s);\n          s.async = true;\n          s.onload = () => {\n            VEGA_DEBUG[key] = version;\n            return resolve(paths[lib]);\n          };\n          s.onerror = () => reject(`Error loading script: ${paths[lib]}`);\n          s.src = paths[lib];\n        });\n    }\n\n    function showError(err) {\n      outputDiv.innerHTML = `<div class=\"error\" style=\"color:red;\">${err}</div>`;\n      throw err;\n    }\n\n    function displayChart(vegaEmbed) {\n      vegaEmbed(outputDiv, spec, embedOpt)\n        .catch(err => showError(`Javascript Error: ${err.message}<br>This usually means there's a typo in your chart specification. See the javascript console for the full traceback.`));\n    }\n\n    if(typeof define === \"function\" && define.amd) {\n      requirejs.config({paths});\n      let deps = [\"vega-embed\"];\n      require(deps, displayChart, err => showError(`Error loading script: ${err.message}`));\n    } else {\n      maybeLoadScript(\"vega\", \"5\")\n        .then(() => maybeLoadScript(\"vega-lite\", \"5.20.1\"))\n        .then(() => maybeLoadScript(\"vega-embed\", \"6\"))\n        .catch(showError)\n        .then(() => displayChart(vegaEmbed));\n    }\n  })({\"config\": {\"view\": {\"continuousWidth\": 300, \"continuousHeight\": 300}}, \"data\": {\"name\": \"data-3b81bfa349f8c8109d26da02803da101\"}, \"mark\": {\"type\": \"line\"}, \"encoding\": {\"color\": {\"field\": \"symbol\", \"type\": \"nominal\"}, \"strokeDash\": {\"field\": \"symbol\", \"type\": \"nominal\"}, \"x\": {\"field\": \"date\", \"type\": \"temporal\"}, \"y\": {\"field\": \"price\", \"type\": \"quantitative\"}}, \"$schema\": \"https://vega.github.io/schema/vega-lite/v5.20.1.json\", \"datasets\": {\"data-3b81bfa349f8c8109d26da02803da101\": [{\"symbol\": \"MSFT\", \"date\": \"2000-01-01T00:00:00\", \"price\": 39.81}, {\"symbol\": \"MSFT\", \"date\": \"2000-02-01T00:00:00\", \"price\": 36.35}, {\"symbol\": \"MSFT\", \"date\": \"2000-03-01T00:00:00\", \"price\": 43.22}, {\"symbol\": \"MSFT\", \"date\": \"2000-04-01T00:00:00\", \"price\": 28.37}, {\"symbol\": \"MSFT\", \"date\": \"2000-05-01T00:00:00\", \"price\": 25.45}, {\"symbol\": \"MSFT\", \"date\": \"2000-06-01T00:00:00\", \"price\": 32.54}, {\"symbol\": \"MSFT\", \"date\": \"2000-07-01T00:00:00\", \"price\": 28.4}, {\"symbol\": \"MSFT\", \"date\": \"2000-08-01T00:00:00\", \"price\": 28.4}, {\"symbol\": \"MSFT\", \"date\": \"2000-09-01T00:00:00\", \"price\": 24.53}, {\"symbol\": \"MSFT\", \"date\": \"2000-10-01T00:00:00\", \"price\": 28.02}, {\"symbol\": \"MSFT\", \"date\": \"2000-11-01T00:00:00\", \"price\": 23.34}, {\"symbol\": \"MSFT\", \"date\": \"2000-12-01T00:00:00\", \"price\": 17.65}, {\"symbol\": \"MSFT\", \"date\": \"2001-01-01T00:00:00\", \"price\": 24.84}, {\"symbol\": \"MSFT\", \"date\": \"2001-02-01T00:00:00\", \"price\": 24.0}, {\"symbol\": \"MSFT\", \"date\": \"2001-03-01T00:00:00\", \"price\": 22.25}, {\"symbol\": \"MSFT\", \"date\": \"2001-04-01T00:00:00\", \"price\": 27.56}, {\"symbol\": \"MSFT\", \"date\": \"2001-05-01T00:00:00\", \"price\": 28.14}, {\"symbol\": \"MSFT\", \"date\": \"2001-06-01T00:00:00\", \"price\": 29.7}, {\"symbol\": \"MSFT\", \"date\": \"2001-07-01T00:00:00\", \"price\": 26.93}, {\"symbol\": \"MSFT\", \"date\": \"2001-08-01T00:00:00\", \"price\": 23.21}, {\"symbol\": \"MSFT\", \"date\": \"2001-09-01T00:00:00\", \"price\": 20.82}, {\"symbol\": \"MSFT\", \"date\": \"2001-10-01T00:00:00\", \"price\": 23.65}, {\"symbol\": \"MSFT\", \"date\": \"2001-11-01T00:00:00\", \"price\": 26.12}, {\"symbol\": \"MSFT\", \"date\": \"2001-12-01T00:00:00\", \"price\": 26.95}, {\"symbol\": \"MSFT\", \"date\": \"2002-01-01T00:00:00\", \"price\": 25.92}, {\"symbol\": \"MSFT\", \"date\": \"2002-02-01T00:00:00\", \"price\": 23.73}, {\"symbol\": \"MSFT\", \"date\": \"2002-03-01T00:00:00\", \"price\": 24.53}, {\"symbol\": \"MSFT\", \"date\": \"2002-04-01T00:00:00\", \"price\": 21.26}, {\"symbol\": \"MSFT\", \"date\": \"2002-05-01T00:00:00\", \"price\": 20.71}, {\"symbol\": \"MSFT\", \"date\": \"2002-06-01T00:00:00\", \"price\": 22.25}, {\"symbol\": \"MSFT\", \"date\": \"2002-07-01T00:00:00\", \"price\": 19.52}, {\"symbol\": \"MSFT\", \"date\": \"2002-08-01T00:00:00\", \"price\": 19.97}, {\"symbol\": \"MSFT\", \"date\": \"2002-09-01T00:00:00\", \"price\": 17.79}, {\"symbol\": \"MSFT\", \"date\": \"2002-10-01T00:00:00\", \"price\": 21.75}, {\"symbol\": \"MSFT\", \"date\": \"2002-11-01T00:00:00\", \"price\": 23.46}, {\"symbol\": \"MSFT\", \"date\": \"2002-12-01T00:00:00\", \"price\": 21.03}, {\"symbol\": \"MSFT\", \"date\": \"2003-01-01T00:00:00\", \"price\": 19.31}, {\"symbol\": \"MSFT\", \"date\": \"2003-02-01T00:00:00\", \"price\": 19.34}, {\"symbol\": \"MSFT\", \"date\": \"2003-03-01T00:00:00\", \"price\": 19.76}, {\"symbol\": \"MSFT\", \"date\": \"2003-04-01T00:00:00\", \"price\": 20.87}, {\"symbol\": \"MSFT\", \"date\": \"2003-05-01T00:00:00\", \"price\": 20.09}, {\"symbol\": \"MSFT\", \"date\": \"2003-06-01T00:00:00\", \"price\": 20.93}, {\"symbol\": \"MSFT\", \"date\": \"2003-07-01T00:00:00\", \"price\": 21.56}, {\"symbol\": \"MSFT\", \"date\": \"2003-08-01T00:00:00\", \"price\": 21.65}, {\"symbol\": \"MSFT\", \"date\": \"2003-09-01T00:00:00\", \"price\": 22.69}, {\"symbol\": \"MSFT\", \"date\": \"2003-10-01T00:00:00\", \"price\": 21.45}, {\"symbol\": \"MSFT\", \"date\": \"2003-11-01T00:00:00\", \"price\": 21.1}, {\"symbol\": \"MSFT\", \"date\": \"2003-12-01T00:00:00\", \"price\": 22.46}, {\"symbol\": \"MSFT\", \"date\": \"2004-01-01T00:00:00\", \"price\": 22.69}, {\"symbol\": \"MSFT\", \"date\": \"2004-02-01T00:00:00\", \"price\": 21.77}, {\"symbol\": \"MSFT\", \"date\": \"2004-03-01T00:00:00\", \"price\": 20.46}, {\"symbol\": \"MSFT\", \"date\": \"2004-04-01T00:00:00\", \"price\": 21.45}, {\"symbol\": \"MSFT\", \"date\": \"2004-05-01T00:00:00\", \"price\": 21.53}, {\"symbol\": \"MSFT\", \"date\": \"2004-06-01T00:00:00\", \"price\": 23.44}, {\"symbol\": \"MSFT\", \"date\": \"2004-07-01T00:00:00\", \"price\": 23.38}, {\"symbol\": \"MSFT\", \"date\": \"2004-08-01T00:00:00\", \"price\": 22.47}, {\"symbol\": \"MSFT\", \"date\": \"2004-09-01T00:00:00\", \"price\": 22.76}, {\"symbol\": \"MSFT\", \"date\": \"2004-10-01T00:00:00\", \"price\": 23.02}, {\"symbol\": \"MSFT\", \"date\": \"2004-11-01T00:00:00\", \"price\": 24.6}, {\"symbol\": \"MSFT\", \"date\": \"2004-12-01T00:00:00\", \"price\": 24.52}, {\"symbol\": \"MSFT\", \"date\": \"2005-01-01T00:00:00\", \"price\": 24.11}, {\"symbol\": \"MSFT\", \"date\": \"2005-02-01T00:00:00\", \"price\": 23.15}, {\"symbol\": \"MSFT\", \"date\": \"2005-03-01T00:00:00\", \"price\": 22.24}, {\"symbol\": \"MSFT\", \"date\": \"2005-04-01T00:00:00\", \"price\": 23.28}, {\"symbol\": \"MSFT\", \"date\": \"2005-05-01T00:00:00\", \"price\": 23.82}, {\"symbol\": \"MSFT\", \"date\": \"2005-06-01T00:00:00\", \"price\": 22.93}, {\"symbol\": \"MSFT\", \"date\": \"2005-07-01T00:00:00\", \"price\": 23.64}, {\"symbol\": \"MSFT\", \"date\": \"2005-08-01T00:00:00\", \"price\": 25.35}, {\"symbol\": \"MSFT\", \"date\": \"2005-09-01T00:00:00\", \"price\": 23.83}, {\"symbol\": \"MSFT\", \"date\": \"2005-10-01T00:00:00\", \"price\": 23.8}, {\"symbol\": \"MSFT\", \"date\": \"2005-11-01T00:00:00\", \"price\": 25.71}, {\"symbol\": \"MSFT\", \"date\": \"2005-12-01T00:00:00\", \"price\": 24.29}, {\"symbol\": \"MSFT\", \"date\": \"2006-01-01T00:00:00\", \"price\": 26.14}, {\"symbol\": \"MSFT\", \"date\": \"2006-02-01T00:00:00\", \"price\": 25.04}, {\"symbol\": \"MSFT\", \"date\": \"2006-03-01T00:00:00\", \"price\": 25.36}, {\"symbol\": \"MSFT\", \"date\": \"2006-04-01T00:00:00\", \"price\": 22.5}, {\"symbol\": \"MSFT\", \"date\": \"2006-05-01T00:00:00\", \"price\": 21.19}, {\"symbol\": \"MSFT\", \"date\": \"2006-06-01T00:00:00\", \"price\": 21.8}, {\"symbol\": \"MSFT\", \"date\": \"2006-07-01T00:00:00\", \"price\": 22.51}, {\"symbol\": \"MSFT\", \"date\": \"2006-08-01T00:00:00\", \"price\": 24.13}, {\"symbol\": \"MSFT\", \"date\": \"2006-09-01T00:00:00\", \"price\": 25.68}, {\"symbol\": \"MSFT\", \"date\": \"2006-10-01T00:00:00\", \"price\": 26.96}, {\"symbol\": \"MSFT\", \"date\": \"2006-11-01T00:00:00\", \"price\": 27.66}, {\"symbol\": \"MSFT\", \"date\": \"2006-12-01T00:00:00\", \"price\": 28.13}, {\"symbol\": \"MSFT\", \"date\": \"2007-01-01T00:00:00\", \"price\": 29.07}, {\"symbol\": \"MSFT\", \"date\": \"2007-02-01T00:00:00\", \"price\": 26.63}, {\"symbol\": \"MSFT\", \"date\": \"2007-03-01T00:00:00\", \"price\": 26.35}, {\"symbol\": \"MSFT\", \"date\": \"2007-04-01T00:00:00\", \"price\": 28.3}, {\"symbol\": \"MSFT\", \"date\": \"2007-05-01T00:00:00\", \"price\": 29.11}, {\"symbol\": \"MSFT\", \"date\": \"2007-06-01T00:00:00\", \"price\": 27.95}, {\"symbol\": \"MSFT\", \"date\": \"2007-07-01T00:00:00\", \"price\": 27.5}, {\"symbol\": \"MSFT\", \"date\": \"2007-08-01T00:00:00\", \"price\": 27.34}, {\"symbol\": \"MSFT\", \"date\": \"2007-09-01T00:00:00\", \"price\": 28.04}, {\"symbol\": \"MSFT\", \"date\": \"2007-10-01T00:00:00\", \"price\": 35.03}, {\"symbol\": \"MSFT\", \"date\": \"2007-11-01T00:00:00\", \"price\": 32.09}, {\"symbol\": \"MSFT\", \"date\": \"2007-12-01T00:00:00\", \"price\": 34.0}, {\"symbol\": \"MSFT\", \"date\": \"2008-01-01T00:00:00\", \"price\": 31.13}, {\"symbol\": \"MSFT\", \"date\": \"2008-02-01T00:00:00\", \"price\": 26.07}, {\"symbol\": \"MSFT\", \"date\": \"2008-03-01T00:00:00\", \"price\": 27.21}, {\"symbol\": \"MSFT\", \"date\": \"2008-04-01T00:00:00\", \"price\": 27.34}, {\"symbol\": \"MSFT\", \"date\": \"2008-05-01T00:00:00\", \"price\": 27.25}, {\"symbol\": \"MSFT\", \"date\": \"2008-06-01T00:00:00\", \"price\": 26.47}, {\"symbol\": \"MSFT\", \"date\": \"2008-07-01T00:00:00\", \"price\": 24.75}, {\"symbol\": \"MSFT\", \"date\": \"2008-08-01T00:00:00\", \"price\": 26.36}, {\"symbol\": \"MSFT\", \"date\": \"2008-09-01T00:00:00\", \"price\": 25.78}, {\"symbol\": \"MSFT\", \"date\": \"2008-10-01T00:00:00\", \"price\": 21.57}, {\"symbol\": \"MSFT\", \"date\": \"2008-11-01T00:00:00\", \"price\": 19.66}, {\"symbol\": \"MSFT\", \"date\": \"2008-12-01T00:00:00\", \"price\": 18.91}, {\"symbol\": \"MSFT\", \"date\": \"2009-01-01T00:00:00\", \"price\": 16.63}, {\"symbol\": \"MSFT\", \"date\": \"2009-02-01T00:00:00\", \"price\": 15.81}, {\"symbol\": \"MSFT\", \"date\": \"2009-03-01T00:00:00\", \"price\": 17.99}, {\"symbol\": \"MSFT\", \"date\": \"2009-04-01T00:00:00\", \"price\": 19.84}, {\"symbol\": \"MSFT\", \"date\": \"2009-05-01T00:00:00\", \"price\": 20.59}, {\"symbol\": \"MSFT\", \"date\": \"2009-06-01T00:00:00\", \"price\": 23.42}, {\"symbol\": \"MSFT\", \"date\": \"2009-07-01T00:00:00\", \"price\": 23.18}, {\"symbol\": \"MSFT\", \"date\": \"2009-08-01T00:00:00\", \"price\": 24.43}, {\"symbol\": \"MSFT\", \"date\": \"2009-09-01T00:00:00\", \"price\": 25.49}, {\"symbol\": \"MSFT\", \"date\": \"2009-10-01T00:00:00\", \"price\": 27.48}, {\"symbol\": \"MSFT\", \"date\": \"2009-11-01T00:00:00\", \"price\": 29.27}, {\"symbol\": \"MSFT\", \"date\": \"2009-12-01T00:00:00\", \"price\": 30.34}, {\"symbol\": \"MSFT\", \"date\": \"2010-01-01T00:00:00\", \"price\": 28.05}, {\"symbol\": \"MSFT\", \"date\": \"2010-02-01T00:00:00\", \"price\": 28.67}, {\"symbol\": \"MSFT\", \"date\": \"2010-03-01T00:00:00\", \"price\": 28.8}, {\"symbol\": \"AMZN\", \"date\": \"2000-01-01T00:00:00\", \"price\": 64.56}, {\"symbol\": \"AMZN\", \"date\": \"2000-02-01T00:00:00\", \"price\": 68.87}, {\"symbol\": \"AMZN\", \"date\": \"2000-03-01T00:00:00\", \"price\": 67.0}, {\"symbol\": \"AMZN\", \"date\": \"2000-04-01T00:00:00\", \"price\": 55.19}, {\"symbol\": \"AMZN\", \"date\": \"2000-05-01T00:00:00\", \"price\": 48.31}, {\"symbol\": \"AMZN\", \"date\": \"2000-06-01T00:00:00\", \"price\": 36.31}, {\"symbol\": \"AMZN\", \"date\": \"2000-07-01T00:00:00\", \"price\": 30.12}, {\"symbol\": \"AMZN\", \"date\": \"2000-08-01T00:00:00\", \"price\": 41.5}, {\"symbol\": \"AMZN\", \"date\": \"2000-09-01T00:00:00\", \"price\": 38.44}, {\"symbol\": \"AMZN\", \"date\": \"2000-10-01T00:00:00\", \"price\": 36.62}, {\"symbol\": \"AMZN\", \"date\": \"2000-11-01T00:00:00\", \"price\": 24.69}, {\"symbol\": \"AMZN\", \"date\": \"2000-12-01T00:00:00\", \"price\": 15.56}, {\"symbol\": \"AMZN\", \"date\": \"2001-01-01T00:00:00\", \"price\": 17.31}, {\"symbol\": \"AMZN\", \"date\": \"2001-02-01T00:00:00\", \"price\": 10.19}, {\"symbol\": \"AMZN\", \"date\": \"2001-03-01T00:00:00\", \"price\": 10.23}, {\"symbol\": \"AMZN\", \"date\": \"2001-04-01T00:00:00\", \"price\": 15.78}, {\"symbol\": \"AMZN\", \"date\": \"2001-05-01T00:00:00\", \"price\": 16.69}, {\"symbol\": \"AMZN\", \"date\": \"2001-06-01T00:00:00\", \"price\": 14.15}, {\"symbol\": \"AMZN\", \"date\": \"2001-07-01T00:00:00\", \"price\": 12.49}, {\"symbol\": \"AMZN\", \"date\": \"2001-08-01T00:00:00\", \"price\": 8.94}, {\"symbol\": \"AMZN\", \"date\": \"2001-09-01T00:00:00\", \"price\": 5.97}, {\"symbol\": \"AMZN\", \"date\": \"2001-10-01T00:00:00\", \"price\": 6.98}, {\"symbol\": \"AMZN\", \"date\": \"2001-11-01T00:00:00\", \"price\": 11.32}, {\"symbol\": \"AMZN\", \"date\": \"2001-12-01T00:00:00\", \"price\": 10.82}, {\"symbol\": \"AMZN\", \"date\": \"2002-01-01T00:00:00\", \"price\": 14.19}, {\"symbol\": \"AMZN\", \"date\": \"2002-02-01T00:00:00\", \"price\": 14.1}, {\"symbol\": \"AMZN\", \"date\": \"2002-03-01T00:00:00\", \"price\": 14.3}, {\"symbol\": \"AMZN\", \"date\": \"2002-04-01T00:00:00\", \"price\": 16.69}, {\"symbol\": \"AMZN\", \"date\": \"2002-05-01T00:00:00\", \"price\": 18.23}, {\"symbol\": \"AMZN\", \"date\": \"2002-06-01T00:00:00\", \"price\": 16.25}, {\"symbol\": \"AMZN\", \"date\": \"2002-07-01T00:00:00\", \"price\": 14.45}, {\"symbol\": \"AMZN\", \"date\": \"2002-08-01T00:00:00\", \"price\": 14.94}, {\"symbol\": \"AMZN\", \"date\": \"2002-09-01T00:00:00\", \"price\": 15.93}, {\"symbol\": \"AMZN\", \"date\": \"2002-10-01T00:00:00\", \"price\": 19.36}, {\"symbol\": \"AMZN\", \"date\": \"2002-11-01T00:00:00\", \"price\": 23.35}, {\"symbol\": \"AMZN\", \"date\": \"2002-12-01T00:00:00\", \"price\": 18.89}, {\"symbol\": \"AMZN\", \"date\": \"2003-01-01T00:00:00\", \"price\": 21.85}, {\"symbol\": \"AMZN\", \"date\": \"2003-02-01T00:00:00\", \"price\": 22.01}, {\"symbol\": \"AMZN\", \"date\": \"2003-03-01T00:00:00\", \"price\": 26.03}, {\"symbol\": \"AMZN\", \"date\": \"2003-04-01T00:00:00\", \"price\": 28.69}, {\"symbol\": \"AMZN\", \"date\": \"2003-05-01T00:00:00\", \"price\": 35.89}, {\"symbol\": \"AMZN\", \"date\": \"2003-06-01T00:00:00\", \"price\": 36.32}, {\"symbol\": \"AMZN\", \"date\": \"2003-07-01T00:00:00\", \"price\": 41.64}, {\"symbol\": \"AMZN\", \"date\": \"2003-08-01T00:00:00\", \"price\": 46.32}, {\"symbol\": \"AMZN\", \"date\": \"2003-09-01T00:00:00\", \"price\": 48.43}, {\"symbol\": \"AMZN\", \"date\": \"2003-10-01T00:00:00\", \"price\": 54.43}, {\"symbol\": \"AMZN\", \"date\": \"2003-11-01T00:00:00\", \"price\": 53.97}, {\"symbol\": \"AMZN\", \"date\": \"2003-12-01T00:00:00\", \"price\": 52.62}, {\"symbol\": \"AMZN\", \"date\": \"2004-01-01T00:00:00\", \"price\": 50.4}, {\"symbol\": \"AMZN\", \"date\": \"2004-02-01T00:00:00\", \"price\": 43.01}, {\"symbol\": \"AMZN\", \"date\": \"2004-03-01T00:00:00\", \"price\": 43.28}, {\"symbol\": \"AMZN\", \"date\": \"2004-04-01T00:00:00\", \"price\": 43.6}, {\"symbol\": \"AMZN\", \"date\": \"2004-05-01T00:00:00\", \"price\": 48.5}, {\"symbol\": \"AMZN\", \"date\": \"2004-06-01T00:00:00\", \"price\": 54.4}, {\"symbol\": \"AMZN\", \"date\": \"2004-07-01T00:00:00\", \"price\": 38.92}, {\"symbol\": \"AMZN\", \"date\": \"2004-08-01T00:00:00\", \"price\": 38.14}, {\"symbol\": \"AMZN\", \"date\": \"2004-09-01T00:00:00\", \"price\": 40.86}, {\"symbol\": \"AMZN\", \"date\": \"2004-10-01T00:00:00\", \"price\": 34.13}, {\"symbol\": \"AMZN\", \"date\": \"2004-11-01T00:00:00\", \"price\": 39.68}, {\"symbol\": \"AMZN\", \"date\": \"2004-12-01T00:00:00\", \"price\": 44.29}, {\"symbol\": \"AMZN\", \"date\": \"2005-01-01T00:00:00\", \"price\": 43.22}, {\"symbol\": \"AMZN\", \"date\": \"2005-02-01T00:00:00\", \"price\": 35.18}, {\"symbol\": \"AMZN\", \"date\": \"2005-03-01T00:00:00\", \"price\": 34.27}, {\"symbol\": \"AMZN\", \"date\": \"2005-04-01T00:00:00\", \"price\": 32.36}, {\"symbol\": \"AMZN\", \"date\": \"2005-05-01T00:00:00\", \"price\": 35.51}, {\"symbol\": \"AMZN\", \"date\": \"2005-06-01T00:00:00\", \"price\": 33.09}, {\"symbol\": \"AMZN\", \"date\": \"2005-07-01T00:00:00\", \"price\": 45.15}, {\"symbol\": \"AMZN\", \"date\": \"2005-08-01T00:00:00\", \"price\": 42.7}, {\"symbol\": \"AMZN\", \"date\": \"2005-09-01T00:00:00\", \"price\": 45.3}, {\"symbol\": \"AMZN\", \"date\": \"2005-10-01T00:00:00\", \"price\": 39.86}, {\"symbol\": \"AMZN\", \"date\": \"2005-11-01T00:00:00\", \"price\": 48.46}, {\"symbol\": \"AMZN\", \"date\": \"2005-12-01T00:00:00\", \"price\": 47.15}, {\"symbol\": \"AMZN\", \"date\": \"2006-01-01T00:00:00\", \"price\": 44.82}, {\"symbol\": \"AMZN\", \"date\": \"2006-02-01T00:00:00\", \"price\": 37.44}, {\"symbol\": \"AMZN\", \"date\": \"2006-03-01T00:00:00\", \"price\": 36.53}, {\"symbol\": \"AMZN\", \"date\": \"2006-04-01T00:00:00\", \"price\": 35.21}, {\"symbol\": \"AMZN\", \"date\": \"2006-05-01T00:00:00\", \"price\": 34.61}, {\"symbol\": \"AMZN\", \"date\": \"2006-06-01T00:00:00\", \"price\": 38.68}, {\"symbol\": \"AMZN\", \"date\": \"2006-07-01T00:00:00\", \"price\": 26.89}, {\"symbol\": \"AMZN\", \"date\": \"2006-08-01T00:00:00\", \"price\": 30.83}, {\"symbol\": \"AMZN\", \"date\": \"2006-09-01T00:00:00\", \"price\": 32.12}, {\"symbol\": \"AMZN\", \"date\": \"2006-10-01T00:00:00\", \"price\": 38.09}, {\"symbol\": \"AMZN\", \"date\": \"2006-11-01T00:00:00\", \"price\": 40.34}, {\"symbol\": \"AMZN\", \"date\": \"2006-12-01T00:00:00\", \"price\": 39.46}, {\"symbol\": \"AMZN\", \"date\": \"2007-01-01T00:00:00\", \"price\": 37.67}, {\"symbol\": \"AMZN\", \"date\": \"2007-02-01T00:00:00\", \"price\": 39.14}, {\"symbol\": \"AMZN\", \"date\": \"2007-03-01T00:00:00\", \"price\": 39.79}, {\"symbol\": \"AMZN\", \"date\": \"2007-04-01T00:00:00\", \"price\": 61.33}, {\"symbol\": \"AMZN\", \"date\": \"2007-05-01T00:00:00\", \"price\": 69.14}, {\"symbol\": \"AMZN\", \"date\": \"2007-06-01T00:00:00\", \"price\": 68.41}, {\"symbol\": \"AMZN\", \"date\": \"2007-07-01T00:00:00\", \"price\": 78.54}, {\"symbol\": \"AMZN\", \"date\": \"2007-08-01T00:00:00\", \"price\": 79.91}, {\"symbol\": \"AMZN\", \"date\": \"2007-09-01T00:00:00\", \"price\": 93.15}, {\"symbol\": \"AMZN\", \"date\": \"2007-10-01T00:00:00\", \"price\": 89.15}, {\"symbol\": \"AMZN\", \"date\": \"2007-11-01T00:00:00\", \"price\": 90.56}, {\"symbol\": \"AMZN\", \"date\": \"2007-12-01T00:00:00\", \"price\": 92.64}, {\"symbol\": \"AMZN\", \"date\": \"2008-01-01T00:00:00\", \"price\": 77.7}, {\"symbol\": \"AMZN\", \"date\": \"2008-02-01T00:00:00\", \"price\": 64.47}, {\"symbol\": \"AMZN\", \"date\": \"2008-03-01T00:00:00\", \"price\": 71.3}, {\"symbol\": \"AMZN\", \"date\": \"2008-04-01T00:00:00\", \"price\": 78.63}, {\"symbol\": \"AMZN\", \"date\": \"2008-05-01T00:00:00\", \"price\": 81.62}, {\"symbol\": \"AMZN\", \"date\": \"2008-06-01T00:00:00\", \"price\": 73.33}, {\"symbol\": \"AMZN\", \"date\": \"2008-07-01T00:00:00\", \"price\": 76.34}, {\"symbol\": \"AMZN\", \"date\": \"2008-08-01T00:00:00\", \"price\": 80.81}, {\"symbol\": \"AMZN\", \"date\": \"2008-09-01T00:00:00\", \"price\": 72.76}, {\"symbol\": \"AMZN\", \"date\": \"2008-10-01T00:00:00\", \"price\": 57.24}, {\"symbol\": \"AMZN\", \"date\": \"2008-11-01T00:00:00\", \"price\": 42.7}, {\"symbol\": \"AMZN\", \"date\": \"2008-12-01T00:00:00\", \"price\": 51.28}, {\"symbol\": \"AMZN\", \"date\": \"2009-01-01T00:00:00\", \"price\": 58.82}, {\"symbol\": \"AMZN\", \"date\": \"2009-02-01T00:00:00\", \"price\": 64.79}, {\"symbol\": \"AMZN\", \"date\": \"2009-03-01T00:00:00\", \"price\": 73.44}, {\"symbol\": \"AMZN\", \"date\": \"2009-04-01T00:00:00\", \"price\": 80.52}, {\"symbol\": \"AMZN\", \"date\": \"2009-05-01T00:00:00\", \"price\": 77.99}, {\"symbol\": \"AMZN\", \"date\": \"2009-06-01T00:00:00\", \"price\": 83.66}, {\"symbol\": \"AMZN\", \"date\": \"2009-07-01T00:00:00\", \"price\": 85.76}, {\"symbol\": \"AMZN\", \"date\": \"2009-08-01T00:00:00\", \"price\": 81.19}, {\"symbol\": \"AMZN\", \"date\": \"2009-09-01T00:00:00\", \"price\": 93.36}, {\"symbol\": \"AMZN\", \"date\": \"2009-10-01T00:00:00\", \"price\": 118.81}, {\"symbol\": \"AMZN\", \"date\": \"2009-11-01T00:00:00\", \"price\": 135.91}, {\"symbol\": \"AMZN\", \"date\": \"2009-12-01T00:00:00\", \"price\": 134.52}, {\"symbol\": \"AMZN\", \"date\": \"2010-01-01T00:00:00\", \"price\": 125.41}, {\"symbol\": \"AMZN\", \"date\": \"2010-02-01T00:00:00\", \"price\": 118.4}, {\"symbol\": \"AMZN\", \"date\": \"2010-03-01T00:00:00\", \"price\": 128.82}, {\"symbol\": \"IBM\", \"date\": \"2000-01-01T00:00:00\", \"price\": 100.52}, {\"symbol\": \"IBM\", \"date\": \"2000-02-01T00:00:00\", \"price\": 92.11}, {\"symbol\": \"IBM\", \"date\": \"2000-03-01T00:00:00\", \"price\": 106.11}, {\"symbol\": \"IBM\", \"date\": \"2000-04-01T00:00:00\", \"price\": 99.95}, {\"symbol\": \"IBM\", \"date\": \"2000-05-01T00:00:00\", \"price\": 96.31}, {\"symbol\": \"IBM\", \"date\": \"2000-06-01T00:00:00\", \"price\": 98.33}, {\"symbol\": \"IBM\", \"date\": \"2000-07-01T00:00:00\", \"price\": 100.74}, {\"symbol\": \"IBM\", \"date\": \"2000-08-01T00:00:00\", \"price\": 118.62}, {\"symbol\": \"IBM\", \"date\": \"2000-09-01T00:00:00\", \"price\": 101.19}, {\"symbol\": \"IBM\", \"date\": \"2000-10-01T00:00:00\", \"price\": 88.5}, {\"symbol\": \"IBM\", \"date\": \"2000-11-01T00:00:00\", \"price\": 84.12}, {\"symbol\": \"IBM\", \"date\": \"2000-12-01T00:00:00\", \"price\": 76.47}, {\"symbol\": \"IBM\", \"date\": \"2001-01-01T00:00:00\", \"price\": 100.76}, {\"symbol\": \"IBM\", \"date\": \"2001-02-01T00:00:00\", \"price\": 89.98}, {\"symbol\": \"IBM\", \"date\": \"2001-03-01T00:00:00\", \"price\": 86.63}, {\"symbol\": \"IBM\", \"date\": \"2001-04-01T00:00:00\", \"price\": 103.7}, {\"symbol\": \"IBM\", \"date\": \"2001-05-01T00:00:00\", \"price\": 100.82}, {\"symbol\": \"IBM\", \"date\": \"2001-06-01T00:00:00\", \"price\": 102.35}, {\"symbol\": \"IBM\", \"date\": \"2001-07-01T00:00:00\", \"price\": 94.87}, {\"symbol\": \"IBM\", \"date\": \"2001-08-01T00:00:00\", \"price\": 90.25}, {\"symbol\": \"IBM\", \"date\": \"2001-09-01T00:00:00\", \"price\": 82.82}, {\"symbol\": \"IBM\", \"date\": \"2001-10-01T00:00:00\", \"price\": 97.58}, {\"symbol\": \"IBM\", \"date\": \"2001-11-01T00:00:00\", \"price\": 104.5}, {\"symbol\": \"IBM\", \"date\": \"2001-12-01T00:00:00\", \"price\": 109.36}, {\"symbol\": \"IBM\", \"date\": \"2002-01-01T00:00:00\", \"price\": 97.54}, {\"symbol\": \"IBM\", \"date\": \"2002-02-01T00:00:00\", \"price\": 88.82}, {\"symbol\": \"IBM\", \"date\": \"2002-03-01T00:00:00\", \"price\": 94.15}, {\"symbol\": \"IBM\", \"date\": \"2002-04-01T00:00:00\", \"price\": 75.82}, {\"symbol\": \"IBM\", \"date\": \"2002-05-01T00:00:00\", \"price\": 72.97}, {\"symbol\": \"IBM\", \"date\": \"2002-06-01T00:00:00\", \"price\": 65.31}, {\"symbol\": \"IBM\", \"date\": \"2002-07-01T00:00:00\", \"price\": 63.86}, {\"symbol\": \"IBM\", \"date\": \"2002-08-01T00:00:00\", \"price\": 68.52}, {\"symbol\": \"IBM\", \"date\": \"2002-09-01T00:00:00\", \"price\": 53.01}, {\"symbol\": \"IBM\", \"date\": \"2002-10-01T00:00:00\", \"price\": 71.76}, {\"symbol\": \"IBM\", \"date\": \"2002-11-01T00:00:00\", \"price\": 79.16}, {\"symbol\": \"IBM\", \"date\": \"2002-12-01T00:00:00\", \"price\": 70.58}, {\"symbol\": \"IBM\", \"date\": \"2003-01-01T00:00:00\", \"price\": 71.22}, {\"symbol\": \"IBM\", \"date\": \"2003-02-01T00:00:00\", \"price\": 71.13}, {\"symbol\": \"IBM\", \"date\": \"2003-03-01T00:00:00\", \"price\": 71.57}, {\"symbol\": \"IBM\", \"date\": \"2003-04-01T00:00:00\", \"price\": 77.47}, {\"symbol\": \"IBM\", \"date\": \"2003-05-01T00:00:00\", \"price\": 80.48}, {\"symbol\": \"IBM\", \"date\": \"2003-06-01T00:00:00\", \"price\": 75.42}, {\"symbol\": \"IBM\", \"date\": \"2003-07-01T00:00:00\", \"price\": 74.28}, {\"symbol\": \"IBM\", \"date\": \"2003-08-01T00:00:00\", \"price\": 75.12}, {\"symbol\": \"IBM\", \"date\": \"2003-09-01T00:00:00\", \"price\": 80.91}, {\"symbol\": \"IBM\", \"date\": \"2003-10-01T00:00:00\", \"price\": 81.96}, {\"symbol\": \"IBM\", \"date\": \"2003-11-01T00:00:00\", \"price\": 83.08}, {\"symbol\": \"IBM\", \"date\": \"2003-12-01T00:00:00\", \"price\": 85.05}, {\"symbol\": \"IBM\", \"date\": \"2004-01-01T00:00:00\", \"price\": 91.06}, {\"symbol\": \"IBM\", \"date\": \"2004-02-01T00:00:00\", \"price\": 88.7}, {\"symbol\": \"IBM\", \"date\": \"2004-03-01T00:00:00\", \"price\": 84.41}, {\"symbol\": \"IBM\", \"date\": \"2004-04-01T00:00:00\", \"price\": 81.04}, {\"symbol\": \"IBM\", \"date\": \"2004-05-01T00:00:00\", \"price\": 81.59}, {\"symbol\": \"IBM\", \"date\": \"2004-06-01T00:00:00\", \"price\": 81.19}, {\"symbol\": \"IBM\", \"date\": \"2004-07-01T00:00:00\", \"price\": 80.19}, {\"symbol\": \"IBM\", \"date\": \"2004-08-01T00:00:00\", \"price\": 78.17}, {\"symbol\": \"IBM\", \"date\": \"2004-09-01T00:00:00\", \"price\": 79.13}, {\"symbol\": \"IBM\", \"date\": \"2004-10-01T00:00:00\", \"price\": 82.84}, {\"symbol\": \"IBM\", \"date\": \"2004-11-01T00:00:00\", \"price\": 87.15}, {\"symbol\": \"IBM\", \"date\": \"2004-12-01T00:00:00\", \"price\": 91.16}, {\"symbol\": \"IBM\", \"date\": \"2005-01-01T00:00:00\", \"price\": 86.39}, {\"symbol\": \"IBM\", \"date\": \"2005-02-01T00:00:00\", \"price\": 85.78}, {\"symbol\": \"IBM\", \"date\": \"2005-03-01T00:00:00\", \"price\": 84.66}, {\"symbol\": \"IBM\", \"date\": \"2005-04-01T00:00:00\", \"price\": 70.77}, {\"symbol\": \"IBM\", \"date\": \"2005-05-01T00:00:00\", \"price\": 70.18}, {\"symbol\": \"IBM\", \"date\": \"2005-06-01T00:00:00\", \"price\": 68.93}, {\"symbol\": \"IBM\", \"date\": \"2005-07-01T00:00:00\", \"price\": 77.53}, {\"symbol\": \"IBM\", \"date\": \"2005-08-01T00:00:00\", \"price\": 75.07}, {\"symbol\": \"IBM\", \"date\": \"2005-09-01T00:00:00\", \"price\": 74.7}, {\"symbol\": \"IBM\", \"date\": \"2005-10-01T00:00:00\", \"price\": 76.25}, {\"symbol\": \"IBM\", \"date\": \"2005-11-01T00:00:00\", \"price\": 82.98}, {\"symbol\": \"IBM\", \"date\": \"2005-12-01T00:00:00\", \"price\": 76.73}, {\"symbol\": \"IBM\", \"date\": \"2006-01-01T00:00:00\", \"price\": 75.89}, {\"symbol\": \"IBM\", \"date\": \"2006-02-01T00:00:00\", \"price\": 75.09}, {\"symbol\": \"IBM\", \"date\": \"2006-03-01T00:00:00\", \"price\": 77.17}, {\"symbol\": \"IBM\", \"date\": \"2006-04-01T00:00:00\", \"price\": 77.05}, {\"symbol\": \"IBM\", \"date\": \"2006-05-01T00:00:00\", \"price\": 75.04}, {\"symbol\": \"IBM\", \"date\": \"2006-06-01T00:00:00\", \"price\": 72.15}, {\"symbol\": \"IBM\", \"date\": \"2006-07-01T00:00:00\", \"price\": 72.7}, {\"symbol\": \"IBM\", \"date\": \"2006-08-01T00:00:00\", \"price\": 76.35}, {\"symbol\": \"IBM\", \"date\": \"2006-09-01T00:00:00\", \"price\": 77.26}, {\"symbol\": \"IBM\", \"date\": \"2006-10-01T00:00:00\", \"price\": 87.06}, {\"symbol\": \"IBM\", \"date\": \"2006-11-01T00:00:00\", \"price\": 86.95}, {\"symbol\": \"IBM\", \"date\": \"2006-12-01T00:00:00\", \"price\": 91.9}, {\"symbol\": \"IBM\", \"date\": \"2007-01-01T00:00:00\", \"price\": 93.79}, {\"symbol\": \"IBM\", \"date\": \"2007-02-01T00:00:00\", \"price\": 88.18}, {\"symbol\": \"IBM\", \"date\": \"2007-03-01T00:00:00\", \"price\": 89.44}, {\"symbol\": \"IBM\", \"date\": \"2007-04-01T00:00:00\", \"price\": 96.98}, {\"symbol\": \"IBM\", \"date\": \"2007-05-01T00:00:00\", \"price\": 101.54}, {\"symbol\": \"IBM\", \"date\": \"2007-06-01T00:00:00\", \"price\": 100.25}, {\"symbol\": \"IBM\", \"date\": \"2007-07-01T00:00:00\", \"price\": 105.4}, {\"symbol\": \"IBM\", \"date\": \"2007-08-01T00:00:00\", \"price\": 111.54}, {\"symbol\": \"IBM\", \"date\": \"2007-09-01T00:00:00\", \"price\": 112.6}, {\"symbol\": \"IBM\", \"date\": \"2007-10-01T00:00:00\", \"price\": 111.0}, {\"symbol\": \"IBM\", \"date\": \"2007-11-01T00:00:00\", \"price\": 100.9}, {\"symbol\": \"IBM\", \"date\": \"2007-12-01T00:00:00\", \"price\": 103.7}, {\"symbol\": \"IBM\", \"date\": \"2008-01-01T00:00:00\", \"price\": 102.75}, {\"symbol\": \"IBM\", \"date\": \"2008-02-01T00:00:00\", \"price\": 109.64}, {\"symbol\": \"IBM\", \"date\": \"2008-03-01T00:00:00\", \"price\": 110.87}, {\"symbol\": \"IBM\", \"date\": \"2008-04-01T00:00:00\", \"price\": 116.23}, {\"symbol\": \"IBM\", \"date\": \"2008-05-01T00:00:00\", \"price\": 125.14}, {\"symbol\": \"IBM\", \"date\": \"2008-06-01T00:00:00\", \"price\": 114.6}, {\"symbol\": \"IBM\", \"date\": \"2008-07-01T00:00:00\", \"price\": 123.74}, {\"symbol\": \"IBM\", \"date\": \"2008-08-01T00:00:00\", \"price\": 118.16}, {\"symbol\": \"IBM\", \"date\": \"2008-09-01T00:00:00\", \"price\": 113.53}, {\"symbol\": \"IBM\", \"date\": \"2008-10-01T00:00:00\", \"price\": 90.24}, {\"symbol\": \"IBM\", \"date\": \"2008-11-01T00:00:00\", \"price\": 79.65}, {\"symbol\": \"IBM\", \"date\": \"2008-12-01T00:00:00\", \"price\": 82.15}, {\"symbol\": \"IBM\", \"date\": \"2009-01-01T00:00:00\", \"price\": 89.46}, {\"symbol\": \"IBM\", \"date\": \"2009-02-01T00:00:00\", \"price\": 90.32}, {\"symbol\": \"IBM\", \"date\": \"2009-03-01T00:00:00\", \"price\": 95.09}, {\"symbol\": \"IBM\", \"date\": \"2009-04-01T00:00:00\", \"price\": 101.29}, {\"symbol\": \"IBM\", \"date\": \"2009-05-01T00:00:00\", \"price\": 104.85}, {\"symbol\": \"IBM\", \"date\": \"2009-06-01T00:00:00\", \"price\": 103.01}, {\"symbol\": \"IBM\", \"date\": \"2009-07-01T00:00:00\", \"price\": 116.34}, {\"symbol\": \"IBM\", \"date\": \"2009-08-01T00:00:00\", \"price\": 117.0}, {\"symbol\": \"IBM\", \"date\": \"2009-09-01T00:00:00\", \"price\": 118.55}, {\"symbol\": \"IBM\", \"date\": \"2009-10-01T00:00:00\", \"price\": 119.54}, {\"symbol\": \"IBM\", \"date\": \"2009-11-01T00:00:00\", \"price\": 125.79}, {\"symbol\": \"IBM\", \"date\": \"2009-12-01T00:00:00\", \"price\": 130.32}, {\"symbol\": \"IBM\", \"date\": \"2010-01-01T00:00:00\", \"price\": 121.85}, {\"symbol\": \"IBM\", \"date\": \"2010-02-01T00:00:00\", \"price\": 127.16}, {\"symbol\": \"IBM\", \"date\": \"2010-03-01T00:00:00\", \"price\": 125.55}]}}, {\"mode\": \"vega-lite\"});\n</script>",
                  "text/plain": "alt.Chart(...)"
                },
                "metadata": {}
              }
            ]
          }
        },
        "be15a4e6f3ab4bc4a1c9404c8935d0a8": {
          "model_module": "@jupyter-widgets/base",
          "model_name": "LayoutModel",
          "model_module_version": "1.2.0",
          "state": {
            "_model_module": "@jupyter-widgets/base",
            "_model_module_version": "1.2.0",
            "_model_name": "LayoutModel",
            "_view_count": null,
            "_view_module": "@jupyter-widgets/base",
            "_view_module_version": "1.2.0",
            "_view_name": "LayoutView",
            "align_content": null,
            "align_items": null,
            "align_self": null,
            "border": null,
            "bottom": null,
            "display": null,
            "flex": null,
            "flex_flow": null,
            "grid_area": null,
            "grid_auto_columns": null,
            "grid_auto_flow": null,
            "grid_auto_rows": null,
            "grid_column": null,
            "grid_gap": null,
            "grid_row": null,
            "grid_template_areas": null,
            "grid_template_columns": null,
            "grid_template_rows": null,
            "height": null,
            "justify_content": null,
            "justify_items": null,
            "left": null,
            "margin": null,
            "max_height": null,
            "max_width": null,
            "min_height": null,
            "min_width": null,
            "object_fit": null,
            "object_position": null,
            "order": null,
            "overflow": null,
            "overflow_x": null,
            "overflow_y": null,
            "padding": null,
            "right": null,
            "top": null,
            "visibility": null,
            "width": null
          }
        },
        "37f82558bdab4dfda9acb79cf4d98fa9": {
          "model_module": "@jupyter-widgets/base",
          "model_name": "LayoutModel",
          "model_module_version": "1.2.0",
          "state": {
            "_model_module": "@jupyter-widgets/base",
            "_model_module_version": "1.2.0",
            "_model_name": "LayoutModel",
            "_view_count": null,
            "_view_module": "@jupyter-widgets/base",
            "_view_module_version": "1.2.0",
            "_view_name": "LayoutView",
            "align_content": null,
            "align_items": null,
            "align_self": null,
            "border": null,
            "bottom": null,
            "display": null,
            "flex": null,
            "flex_flow": null,
            "grid_area": null,
            "grid_auto_columns": null,
            "grid_auto_flow": null,
            "grid_auto_rows": null,
            "grid_column": null,
            "grid_gap": null,
            "grid_row": null,
            "grid_template_areas": null,
            "grid_template_columns": null,
            "grid_template_rows": null,
            "height": null,
            "justify_content": null,
            "justify_items": null,
            "left": null,
            "margin": null,
            "max_height": null,
            "max_width": null,
            "min_height": null,
            "min_width": null,
            "object_fit": null,
            "object_position": null,
            "order": null,
            "overflow": null,
            "overflow_x": null,
            "overflow_y": null,
            "padding": null,
            "right": null,
            "top": null,
            "visibility": null,
            "width": null
          }
        },
        "bdadda7e29aa407383b0ebbc5d29108d": {
          "model_module": "@jupyter-widgets/controls",
          "model_name": "DescriptionStyleModel",
          "model_module_version": "1.5.0",
          "state": {
            "_model_module": "@jupyter-widgets/controls",
            "_model_module_version": "1.5.0",
            "_model_name": "DescriptionStyleModel",
            "_view_count": null,
            "_view_module": "@jupyter-widgets/base",
            "_view_module_version": "1.2.0",
            "_view_name": "StyleView",
            "description_width": ""
          }
        },
        "bbcb5d436bfd4f268fa491de75044b5c": {
          "model_module": "@jupyter-widgets/base",
          "model_name": "LayoutModel",
          "model_module_version": "1.2.0",
          "state": {
            "_model_module": "@jupyter-widgets/base",
            "_model_module_version": "1.2.0",
            "_model_name": "LayoutModel",
            "_view_count": null,
            "_view_module": "@jupyter-widgets/base",
            "_view_module_version": "1.2.0",
            "_view_name": "LayoutView",
            "align_content": null,
            "align_items": null,
            "align_self": null,
            "border": null,
            "bottom": null,
            "display": null,
            "flex": null,
            "flex_flow": null,
            "grid_area": null,
            "grid_auto_columns": null,
            "grid_auto_flow": null,
            "grid_auto_rows": null,
            "grid_column": null,
            "grid_gap": null,
            "grid_row": null,
            "grid_template_areas": null,
            "grid_template_columns": null,
            "grid_template_rows": null,
            "height": null,
            "justify_content": null,
            "justify_items": null,
            "left": null,
            "margin": null,
            "max_height": null,
            "max_width": null,
            "min_height": null,
            "min_width": null,
            "object_fit": null,
            "object_position": null,
            "order": null,
            "overflow": null,
            "overflow_x": null,
            "overflow_y": null,
            "padding": null,
            "right": null,
            "top": null,
            "visibility": null,
            "width": null
          }
        }
      }
    }
  },
  "cells": [
    {
      "cell_type": "markdown",
      "source": [
        "# Jupyter start example"
      ],
      "metadata": {
        "id": "avGVfIm-jfKk"
      }
    },
    {
      "cell_type": "markdown",
      "source": [
        "Jupyter notebook ― веб-приложение с открытым исходным кодом.\n",
        "\n",
        "В Jupyter Notebook две основные части: веб-приложение и ноутбуки ― файлы, в которых работают с исходным кодом программы, запускают его и выводят данные в разных форматах."
      ],
      "metadata": {
        "id": "3YtXME7aqFgy"
      }
    },
    {
      "cell_type": "markdown",
      "source": [
        "### Operations"
      ],
      "metadata": {
        "id": "QAg7oPkfjiyi"
      }
    },
    {
      "cell_type": "code",
      "execution_count": null,
      "metadata": {
        "id": "iD4I4v5vjNx2",
        "colab": {
          "base_uri": "https://localhost:8080/"
        },
        "outputId": "301aeb34-6799-43b0-c4f7-73f84e780deb"
      },
      "outputs": [
        {
          "output_type": "execute_result",
          "data": {
            "text/plain": [
              "5"
            ]
          },
          "metadata": {},
          "execution_count": 17
        }
      ],
      "source": [
        "a, b = 2, 3\n",
        "a + b"
      ]
    },
    {
      "cell_type": "markdown",
      "source": [
        "### Python objects"
      ],
      "metadata": {
        "id": "8W1_F1dmjmuB"
      }
    },
    {
      "cell_type": "code",
      "source": [
        "list_obj = [1, 2, 3]\n",
        "len(list_obj)"
      ],
      "metadata": {
        "id": "lSsF5mC2jQe8",
        "colab": {
          "base_uri": "https://localhost:8080/"
        },
        "outputId": "357f6a78-4358-4845-cbc2-8ea7b041a999"
      },
      "execution_count": null,
      "outputs": [
        {
          "output_type": "execute_result",
          "data": {
            "text/plain": [
              "3"
            ]
          },
          "metadata": {},
          "execution_count": 18
        }
      ]
    },
    {
      "cell_type": "markdown",
      "source": [
        "### Prints"
      ],
      "metadata": {
        "id": "jIqyzaWfjpWR"
      }
    },
    {
      "cell_type": "code",
      "source": [
        "print('test')"
      ],
      "metadata": {
        "id": "bZ0E3sOYjQia",
        "colab": {
          "base_uri": "https://localhost:8080/"
        },
        "outputId": "89dbb273-21df-4c1f-dc3d-916651773e53"
      },
      "execution_count": null,
      "outputs": [
        {
          "output_type": "stream",
          "name": "stdout",
          "text": [
            "test\n"
          ]
        }
      ]
    },
    {
      "cell_type": "code",
      "source": [
        "for i in range(10):\n",
        "  print(i)"
      ],
      "metadata": {
        "id": "QWwmLmfg3pFW",
        "colab": {
          "base_uri": "https://localhost:8080/"
        },
        "outputId": "c9d01bed-f8cb-4c36-d415-eab7ffe0ebca"
      },
      "execution_count": null,
      "outputs": [
        {
          "output_type": "stream",
          "name": "stdout",
          "text": [
            "0\n",
            "1\n",
            "2\n",
            "3\n",
            "4\n",
            "5\n",
            "6\n",
            "7\n",
            "8\n",
            "9\n"
          ]
        }
      ]
    },
    {
      "cell_type": "markdown",
      "source": [
        "### Vizualization"
      ],
      "metadata": {
        "id": "iMbYI_SAkecE"
      }
    },
    {
      "cell_type": "code",
      "source": [
        "import matplotlib.pyplot as plt\n",
        "import numpy as np"
      ],
      "metadata": {
        "id": "hcLuiyk4jQla"
      },
      "execution_count": null,
      "outputs": []
    },
    {
      "cell_type": "code",
      "source": [
        "x = np.linspace(0, 10, 25)\n",
        "y = np.sin(x) + x/2\n",
        "\n",
        "fig, ax = plt.subplots()\n",
        "ax.plot(x, y);"
      ],
      "metadata": {
        "id": "Av0bghTWjQn2",
        "colab": {
          "base_uri": "https://localhost:8080/",
          "height": 430
        },
        "outputId": "b8a3e983-aaed-4928-d545-9a8bbaae95b6"
      },
      "execution_count": null,
      "outputs": [
        {
          "output_type": "display_data",
          "data": {
            "text/plain": [
              "<Figure size 640x480 with 1 Axes>"
            ],
            "image/png": "[encoded data removed]"
          },
          "metadata": {}
        }
      ]
    },
    {
      "cell_type": "markdown",
      "source": [
        "вывод\n"
      ],
      "metadata": {
        "id": "hY0oepax_UBN"
      }
    },
    {
      "cell_type": "markdown",
      "source": [
        "### Google drive connection"
      ],
      "metadata": {
        "id": "1YiOUDU2kqbQ"
      }
    },
    {
      "cell_type": "code",
      "source": [
        "from google.colab import drive\n",
        "drive.mount('/content/gdrive')"
      ],
      "metadata": {
        "id": "vego9ERXkovq",
        "colab": {
          "base_uri": "https://localhost:8080/"
        },
        "outputId": "212698c4-9eca-4346-848b-815db4f5edbe"
      },
      "execution_count": null,
      "outputs": [
        {
          "output_type": "stream",
          "name": "stdout",
          "text": [
            "Mounted at /content/gdrive\n"
          ]
        }
      ]
    },
    {
      "cell_type": "code",
      "source": [
        "%cd gdrive/MyDrive/flagmans"
      ],
      "metadata": {
        "id": "G5Z5uO9Kkoys",
        "colab": {
          "base_uri": "https://localhost:8080/"
        },
        "outputId": "a1ca6639-9bb2-4749-a5b2-ac65a54c6a64"
      },
      "execution_count": null,
      "outputs": [
        {
          "output_type": "stream",
          "name": "stdout",
          "text": [
            "/content/gdrive/MyDrive/flagmans\n"
          ]
        }
      ]
    },
    {
      "cell_type": "code",
      "source": [
        "!ls"
      ],
      "metadata": {
        "id": "zHEpNUoIk72Y",
        "colab": {
          "base_uri": "https://localhost:8080/"
        },
        "outputId": "0834105d-56cb-4690-b609-d5593c03a718"
      },
      "execution_count": null,
      "outputs": [
        {
          "output_type": "stream",
          "name": "stdout",
          "text": [
            "02aa37610728c7e6fab1591e38f94f48_class2_08_2017.csv  mcc.csv\n",
            "9a772b716b3e2d29594d672f3f91006c_class3_08_2017.csv  mcc.xlsx\n",
            "ae2f45670a8d8df09bffa4971549bfab_class0_09_2017.csv  __pycache__\n",
            "dae63f57ab6f54b0833015fe7140d70b_class1_08_2017.csv  pythoncode.py\n",
            "mcc_codes.txt\t\t\t\t\t     transaction_user_data.csv\n"
          ]
        }
      ]
    },
    {
      "cell_type": "code",
      "source": [
        "import pandas as pd\n",
        "\n",
        "pd.read_csv('mcc.csv').head()"
      ],
      "metadata": {
        "id": "pbjDM-Htk75v",
        "colab": {
          "base_uri": "https://localhost:8080/",
          "height": 206
        },
        "outputId": "53e46bdc-4996-4702-980c-61c6548af03d"
      },
      "execution_count": null,
      "outputs": [
        {
          "output_type": "execute_result",
          "data": {
            "text/plain": [
              "    MCC             Description_1  \\\n",
              "0  9998            Not Classified   \n",
              "1  9950  Прочие розничные покупки   \n",
              "2  9405  Прочие розничные покупки   \n",
              "3  9402           Почтовые услуги   \n",
              "4  9399  Прочие розничные покупки   \n",
              "\n",
              "                                       Description_2  \n",
              "0                                     Not Classified  \n",
              "1                            Intra-Company Purchases  \n",
              "2                         Intra Government Purchases  \n",
              "3  Услуги отправки, обработки писем и посылок, пр...  \n",
              "4                                Government Services  "
            ],
            "text/html": [
              "\n",
              "  <div id=\"df-bb5396d2-d0ec-4d6d-b104-6d2523e483e8\" class=\"colab-df-container\">\n",
              "    <div>\n",
              "<style scoped>\n",
              "    .dataframe tbody tr th:only-of-type {\n",
              "        vertical-align: middle;\n",
              "    }\n",
              "\n",
              "    .dataframe tbody tr th {\n",
              "        vertical-align: top;\n",
              "    }\n",
              "\n",
              "    .dataframe thead th {\n",
              "        text-align: right;\n",
              "    }\n",
              "</style>\n",
              "<table border=\"1\" class=\"dataframe\">\n",
              "  <thead>\n",
              "    <tr style=\"text-align: right;\">\n",
              "      <th></th>\n",
              "      <th>MCC</th>\n",
              "      <th>Description_1</th>\n",
              "      <th>Description_2</th>\n",
              "    </tr>\n",
              "  </thead>\n",
              "  <tbody>\n",
              "    <tr>\n",
              "      <th>0</th>\n",
              "      <td>9998</td>\n",
              "      <td>Not Classified</td>\n",
              "      <td>Not Classified</td>\n",
              "    </tr>\n",
              "    <tr>\n",
              "      <th>1</th>\n",
              "      <td>9950</td>\n",
              "      <td>Прочие розничные покупки</td>\n",
              "      <td>Intra-Company Purchases</td>\n",
              "    </tr>\n",
              "    <tr>\n",
              "      <th>2</th>\n",
              "      <td>9405</td>\n",
              "      <td>Прочие розничные покупки</td>\n",
              "      <td>Intra Government Purchases</td>\n",
              "    </tr>\n",
              "    <tr>\n",
              "      <th>3</th>\n",
              "      <td>9402</td>\n",
              "      <td>Почтовые услуги</td>\n",
              "      <td>Услуги отправки, обработки писем и посылок, пр...</td>\n",
              "    </tr>\n",
              "    <tr>\n",
              "      <th>4</th>\n",
              "      <td>9399</td>\n",
              "      <td>Прочие розничные покупки</td>\n",
              "      <td>Government Services</td>\n",
              "    </tr>\n",
              "  </tbody>\n",
              "</table>\n",
              "</div>\n",
              "    <div class=\"colab-df-buttons\">\n",
              "\n",
              "  <div class=\"colab-df-container\">\n",
              "    <button class=\"colab-df-convert\" onclick=\"convertToInteractive('df-bb5396d2-d0ec-4d6d-b104-6d2523e483e8')\"\n",
              "            title=\"Convert this dataframe to an interactive table.\"\n",
              "            style=\"display:none;\">\n",
              "\n",
              "  <svg xmlns=\"http://www.w3.org/2000/svg\" height=\"24px\" viewBox=\"0 -960 960 960\">\n",
              "    <path d=\"M120-120v-720h720v720H120Zm60-500h600v-160H180v160Zm220 220h160v-160H400v160Zm0 220h160v-160H400v160ZM180-400h160v-160H180v160Zm440 0h160v-160H620v160ZM180-180h160v-160H180v160Zm440 0h160v-160H620v160Z\"/>\n",
              "  </svg>\n",
              "    </button>\n",
              "\n",
              "  <style>\n",
              "    .colab-df-container {\n",
              "      display:flex;\n",
              "      gap: 12px;\n",
              "    }\n",
              "\n",
              "    .colab-df-convert {\n",
              "      background-color: #E8F0FE;\n",
              "      border: none;\n",
              "      border-radius: 50%;\n",
              "      cursor: pointer;\n",
              "      display: none;\n",
              "      fill: #1967D2;\n",
              "      height: 32px;\n",
              "      padding: 0 0 0 0;\n",
              "      width: 32px;\n",
              "    }\n",
              "\n",
              "    .colab-df-convert:hover {\n",
              "      background-color: #E2EBFA;\n",
              "      box-shadow: 0px 1px 2px rgba(60, 64, 67, 0.3), 0px 1px 3px 1px rgba(60, 64, 67, 0.15);\n",
              "      fill: #174EA6;\n",
              "    }\n",
              "\n",
              "    .colab-df-buttons div {\n",
              "      margin-bottom: 4px;\n",
              "    }\n",
              "\n",
              "    [theme=dark] .colab-df-convert {\n",
              "      background-color: #3B4455;\n",
              "      fill: #D2E3FC;\n",
              "    }\n",
              "\n",
              "    [theme=dark] .colab-df-convert:hover {\n",
              "      background-color: #434B5C;\n",
              "      box-shadow: 0px 1px 3px 1px rgba(0, 0, 0, 0.15);\n",
              "      filter: drop-shadow(0px 1px 2px rgba(0, 0, 0, 0.3));\n",
              "      fill: #FFFFFF;\n",
              "    }\n",
              "  </style>\n",
              "\n",
              "    <script>\n",
              "      const buttonEl =\n",
              "        document.querySelector('#df-bb5396d2-d0ec-4d6d-b104-6d2523e483e8 button.colab-df-convert');\n",
              "      buttonEl.style.display =\n",
              "        google.colab.kernel.accessAllowed ? 'block' : 'none';\n",
              "\n",
              "      async function convertToInteractive(key) {\n",
              "        const element = document.querySelector('#df-bb5396d2-d0ec-4d6d-b104-6d2523e483e8');\n",
              "        const dataTable =\n",
              "          await google.colab.kernel.invokeFunction('convertToInteractive',\n",
              "                                                    [key], {});\n",
              "        if (!dataTable) return;\n",
              "\n",
              "        const docLinkHtml = 'Like what you see? Visit the ' +\n",
              "          '<a target=\"_blank\" href=https://colab.research.google.com/notebooks/data_table.ipynb>data table notebook</a>'\n",
              "          + ' to learn more about interactive tables.';\n",
              "        element.innerHTML = '';\n",
              "        dataTable['output_type'] = 'display_data';\n",
              "        await google.colab.output.renderOutput(dataTable, element);\n",
              "        const docLink = document.createElement('div');\n",
              "        docLink.innerHTML = docLinkHtml;\n",
              "        element.appendChild(docLink);\n",
              "      }\n",
              "    </script>\n",
              "  </div>\n",
              "\n",
              "\n",
              "    <div id=\"df-f0afa7ed-7a65-4dd7-8a57-e142c9a7020d\">\n",
              "      <button class=\"colab-df-quickchart\" onclick=\"quickchart('df-f0afa7ed-7a65-4dd7-8a57-e142c9a7020d')\"\n",
              "                title=\"Suggest charts\"\n",
              "                style=\"display:none;\">\n",
              "\n",
              "<svg xmlns=\"http://www.w3.org/2000/svg\" height=\"24px\"viewBox=\"0 0 24 24\"\n",
              "     width=\"24px\">\n",
              "    <g>\n",
              "        <path d=\"M19 3H5c-1.1 0-2 .9-2 2v14c0 1.1.9 2 2 2h14c1.1 0 2-.9 2-2V5c0-1.1-.9-2-2-2zM9 17H7v-7h2v7zm4 0h-2V7h2v10zm4 0h-2v-4h2v4z\"/>\n",
              "    </g>\n",
              "</svg>\n",
              "      </button>\n",
              "\n",
              "<style>\n",
              "  .colab-df-quickchart {\n",
              "      --bg-color: #E8F0FE;\n",
              "      --fill-color: #1967D2;\n",
              "      --hover-bg-color: #E2EBFA;\n",
              "      --hover-fill-color: #174EA6;\n",
              "      --disabled-fill-color: #AAA;\n",
              "      --disabled-bg-color: #DDD;\n",
              "  }\n",
              "\n",
              "  [theme=dark] .colab-df-quickchart {\n",
              "      --bg-color: #3B4455;\n",
              "      --fill-color: #D2E3FC;\n",
              "      --hover-bg-color: #434B5C;\n",
              "      --hover-fill-color: #FFFFFF;\n",
              "      --disabled-bg-color: #3B4455;\n",
              "      --disabled-fill-color: #666;\n",
              "  }\n",
              "\n",
              "  .colab-df-quickchart {\n",
              "    background-color: var(--bg-color);\n",
              "    border: none;\n",
              "    border-radius: 50%;\n",
              "    cursor: pointer;\n",
              "    display: none;\n",
              "    fill: var(--fill-color);\n",
              "    height: 32px;\n",
              "    padding: 0;\n",
              "    width: 32px;\n",
              "  }\n",
              "\n",
              "  .colab-df-quickchart:hover {\n",
              "    background-color: var(--hover-bg-color);\n",
              "    box-shadow: 0 1px 2px rgba(60, 64, 67, 0.3), 0 1px 3px 1px rgba(60, 64, 67, 0.15);\n",
              "    fill: var(--button-hover-fill-color);\n",
              "  }\n",
              "\n",
              "  .colab-df-quickchart-complete:disabled,\n",
              "  .colab-df-quickchart-complete:disabled:hover {\n",
              "    background-color: var(--disabled-bg-color);\n",
              "    fill: var(--disabled-fill-color);\n",
              "    box-shadow: none;\n",
              "  }\n",
              "\n",
              "  .colab-df-spinner {\n",
              "    border: 2px solid var(--fill-color);\n",
              "    border-color: transparent;\n",
              "    border-bottom-color: var(--fill-color);\n",
              "    animation:\n",
              "      spin 1s steps(1) infinite;\n",
              "  }\n",
              "\n",
              "  @keyframes spin {\n",
              "    0% {\n",
              "      border-color: transparent;\n",
              "      border-bottom-color: var(--fill-color);\n",
              "      border-left-color: var(--fill-color);\n",
              "    }\n",
              "    20% {\n",
              "      border-color: transparent;\n",
              "      border-left-color: var(--fill-color);\n",
              "      border-top-color: var(--fill-color);\n",
              "    }\n",
              "    30% {\n",
              "      border-color: transparent;\n",
              "      border-left-color: var(--fill-color);\n",
              "      border-top-color: var(--fill-color);\n",
              "      border-right-color: var(--fill-color);\n",
              "    }\n",
              "    40% {\n",
              "      border-color: transparent;\n",
              "      border-right-color: var(--fill-color);\n",
              "      border-top-color: var(--fill-color);\n",
              "    }\n",
              "    60% {\n",
              "      border-color: transparent;\n",
              "      border-right-color: var(--fill-color);\n",
              "    }\n",
              "    80% {\n",
              "      border-color: transparent;\n",
              "      border-right-color: var(--fill-color);\n",
              "      border-bottom-color: var(--fill-color);\n",
              "    }\n",
              "    90% {\n",
              "      border-color: transparent;\n",
              "      border-bottom-color: var(--fill-color);\n",
              "    }\n",
              "  }\n",
              "</style>\n",
              "\n",
              "      <script>\n",
              "        async function quickchart(key) {\n",
              "          const quickchartButtonEl =\n",
              "            document.querySelector('#' + key + ' button');\n",
              "          quickchartButtonEl.disabled = true;  // To prevent multiple clicks.\n",
              "          quickchartButtonEl.classList.add('colab-df-spinner');\n",
              "          try {\n",
              "            const charts = await google.colab.kernel.invokeFunction(\n",
              "                'suggestCharts', [key], {});\n",
              "          } catch (error) {\n",
              "            console.error('Error during call to suggestCharts:', error);\n",
              "          }\n",
              "          quickchartButtonEl.classList.remove('colab-df-spinner');\n",
              "          quickchartButtonEl.classList.add('colab-df-quickchart-complete');\n",
              "        }\n",
              "        (() => {\n",
              "          let quickchartButtonEl =\n",
              "            document.querySelector('#df-f0afa7ed-7a65-4dd7-8a57-e142c9a7020d button');\n",
              "          quickchartButtonEl.style.display =\n",
              "            google.colab.kernel.accessAllowed ? 'block' : 'none';\n",
              "        })();\n",
              "      </script>\n",
              "    </div>\n",
              "\n",
              "    </div>\n",
              "  </div>\n"
            ],
            "application/vnd.google.colaboratory.intrinsic+json": {
              "type": "dataframe",
              "summary": "{\n  \"name\": \"pd\",\n  \"rows\": 5,\n  \"fields\": [\n    {\n      \"column\": \"MCC\",\n      \"properties\": {\n        \"dtype\": \"number\",\n        \"std\": 313,\n        \"min\": 9399,\n        \"max\": 9998,\n        \"num_unique_values\": 5,\n        \"samples\": [\n          9950,\n          9399,\n          9405\n        ],\n        \"semantic_type\": \"\",\n        \"description\": \"\"\n      }\n    },\n    {\n      \"column\": \"Description_1\",\n      \"properties\": {\n        \"dtype\": \"string\",\n        \"num_unique_values\": 3,\n        \"samples\": [\n          \"Not Classified\",\n          \"\\u041f\\u0440\\u043e\\u0447\\u0438\\u0435 \\u0440\\u043e\\u0437\\u043d\\u0438\\u0447\\u043d\\u044b\\u0435 \\u043f\\u043e\\u043a\\u0443\\u043f\\u043a\\u0438\",\n          \"\\u041f\\u043e\\u0447\\u0442\\u043e\\u0432\\u044b\\u0435 \\u0443\\u0441\\u043b\\u0443\\u0433\\u0438\"\n        ],\n        \"semantic_type\": \"\",\n        \"description\": \"\"\n      }\n    },\n    {\n      \"column\": \"Description_2\",\n      \"properties\": {\n        \"dtype\": \"string\",\n        \"num_unique_values\": 5,\n        \"samples\": [\n          \"Intra-Company Purchases\",\n          \"Government Services\",\n          \"Intra Government Purchases\"\n        ],\n        \"semantic_type\": \"\",\n        \"description\": \"\"\n      }\n    }\n  ]\n}"
            }
          },
          "metadata": {},
          "execution_count": 26
        }
      ]
    },
    {
      "cell_type": "markdown",
      "source": [
        "### Подгрузка файла\n"
      ],
      "metadata": {
        "id": "Hm3iunILj7-1"
      }
    },
    {
      "cell_type": "code",
      "source": [
        "from google.colab import files\n",
        "\n",
        "uploaded = files.upload()"
      ],
      "metadata": {
        "id": "jJvD4Vhmj_wN",
        "colab": {
          "base_uri": "https://localhost:8080/",
          "height": 73
        },
        "outputId": "a47e6b76-470f-49fe-e7ba-417917f2cabc"
      },
      "execution_count": null,
      "outputs": [
        {
          "output_type": "display_data",
          "data": {
            "text/plain": [
              "<IPython.core.display.HTML object>"
            ],
            "text/html": [
              "\n",
              "     <input type=\"file\" id=\"files-4ea57ca7-a95d-4b3b-a846-9b2d5234f86d\" name=\"files[]\" multiple disabled\n",
              "        style=\"border:none\" />\n",
              "     <output id=\"result-4ea57ca7-a95d-4b3b-a846-9b2d5234f86d\">\n",
              "      Upload widget is only available when the cell has been executed in the\n",
              "      current browser session. Please rerun this cell to enable.\n",
              "      </output>\n",
              "      <script>// Copyright 2017 Google LLC\n",
              "//\n",
              "// Licensed under the Apache License, Version 2.0 (the \"License\");\n",
              "// you may not use this file except in compliance with the License.\n",
              "// You may obtain a copy of the License at\n",
              "//\n",
              "//      http://www.apache.org/licenses/LICENSE-2.0\n",
              "//\n",
              "// Unless required by applicable law or agreed to in writing, software\n",
              "// distributed under the License is distributed on an \"AS IS\" BASIS,\n",
              "// WITHOUT WARRANTIES OR CONDITIONS OF ANY KIND, either express or implied.\n",
              "// See the License for the specific language governing permissions and\n",
              "// limitations under the License.\n",
              "\n",
              "/**\n",
              " * @fileoverview Helpers for google.colab Python module.\n",
              " */\n",
              "(function(scope) {\n",
              "function span(text, styleAttributes = {}) {\n",
              "  const element = document.createElement('span');\n",
              "  element.textContent = text;\n",
              "  for (const key of Object.keys(styleAttributes)) {\n",
              "    element.style[key] = styleAttributes[key];\n",
              "  }\n",
              "  return element;\n",
              "}\n",
              "\n",
              "// Max number of bytes which will be uploaded at a time.\n",
              "const MAX_PAYLOAD_SIZE = 100 * 1024;\n",
              "\n",
              "function _uploadFiles(inputId, outputId) {\n",
              "  const steps = uploadFilesStep(inputId, outputId);\n",
              "  const outputElement = document.getElementById(outputId);\n",
              "  // Cache steps on the outputElement to make it available for the next call\n",
              "  // to uploadFilesContinue from Python.\n",
              "  outputElement.steps = steps;\n",
              "\n",
              "  return _uploadFilesContinue(outputId);\n",
              "}\n",
              "\n",
              "// This is roughly an async generator (not supported in the browser yet),\n",
              "// where there are multiple asynchronous steps and the Python side is going\n",
              "// to poll for completion of each step.\n",
              "// This uses a Promise to block the python side on completion of each step,\n",
              "// then passes the result of the previous step as the input to the next step.\n",
              "function _uploadFilesContinue(outputId) {\n",
              "  const outputElement = document.getElementById(outputId);\n",
              "  const steps = outputElement.steps;\n",
              "\n",
              "  const next = steps.next(outputElement.lastPromiseValue);\n",
              "  return Promise.resolve(next.value.promise).then((value) => {\n",
              "    // Cache the last promise value to make it available to the next\n",
              "    // step of the generator.\n",
              "    outputElement.lastPromiseValue = value;\n",
              "    return next.value.response;\n",
              "  });\n",
              "}\n",
              "\n",
              "/**\n",
              " * Generator function which is called between each async step of the upload\n",
              " * process.\n",
              " * @param {string} inputId Element ID of the input file picker element.\n",
              " * @param {string} outputId Element ID of the output display.\n",
              " * @return {!Iterable<!Object>} Iterable of next steps.\n",
              " */\n",
              "function* uploadFilesStep(inputId, outputId) {\n",
              "  const inputElement = document.getElementById(inputId);\n",
              "  inputElement.disabled = false;\n",
              "\n",
              "  const outputElement = document.getElementById(outputId);\n",
              "  outputElement.innerHTML = '';\n",
              "\n",
              "  const pickedPromise = new Promise((resolve) => {\n",
              "    inputElement.addEventListener('change', (e) => {\n",
              "      resolve(e.target.files);\n",
              "    });\n",
              "  });\n",
              "\n",
              "  const cancel = document.createElement('button');\n",
              "  inputElement.parentElement.appendChild(cancel);\n",
              "  cancel.textContent = 'Cancel upload';\n",
              "  const cancelPromise = new Promise((resolve) => {\n",
              "    cancel.onclick = () => {\n",
              "      resolve(null);\n",
              "    };\n",
              "  });\n",
              "\n",
              "  // Wait for the user to pick the files.\n",
              "  const files = yield {\n",
              "    promise: Promise.race([pickedPromise, cancelPromise]),\n",
              "    response: {\n",
              "      action: 'starting',\n",
              "    }\n",
              "  };\n",
              "\n",
              "  cancel.remove();\n",
              "\n",
              "  // Disable the input element since further picks are not allowed.\n",
              "  inputElement.disabled = true;\n",
              "\n",
              "  if (!files) {\n",
              "    return {\n",
              "      response: {\n",
              "        action: 'complete',\n",
              "      }\n",
              "    };\n",
              "  }\n",
              "\n",
              "  for (const file of files) {\n",
              "    const li = document.createElement('li');\n",
              "    li.append(span(file.name, {fontWeight: 'bold'}));\n",
              "    li.append(span(\n",
              "        `(${file.type || 'n/a'}) - ${file.size} bytes, ` +\n",
              "        `last modified: ${\n",
              "            file.lastModifiedDate ? file.lastModifiedDate.toLocaleDateString() :\n",
              "                                    'n/a'} - `));\n",
              "    const percent = span('0% done');\n",
              "    li.appendChild(percent);\n",
              "\n",
              "    outputElement.appendChild(li);\n",
              "\n",
              "    const fileDataPromise = new Promise((resolve) => {\n",
              "      const reader = new FileReader();\n",
              "      reader.onload = (e) => {\n",
              "        resolve(e.target.result);\n",
              "      };\n",
              "      reader.readAsArrayBuffer(file);\n",
              "    });\n",
              "    // Wait for the data to be ready.\n",
              "    let fileData = yield {\n",
              "      promise: fileDataPromise,\n",
              "      response: {\n",
              "        action: 'continue',\n",
              "      }\n",
              "    };\n",
              "\n",
              "    // Use a chunked sending to avoid message size limits. See b/62115660.\n",
              "    let position = 0;\n",
              "    do {\n",
              "      const length = Math.min(fileData.byteLength - position, MAX_PAYLOAD_SIZE);\n",
              "      const chunk = new Uint8Array(fileData, position, length);\n",
              "      position += length;\n",
              "\n",
              "      const base64 = btoa(String.fromCharCode.apply(null, chunk));\n",
              "      yield {\n",
              "        response: {\n",
              "          action: 'append',\n",
              "          file: file.name,\n",
              "          data: base64,\n",
              "        },\n",
              "      };\n",
              "\n",
              "      let percentDone = fileData.byteLength === 0 ?\n",
              "          100 :\n",
              "          Math.round((position / fileData.byteLength) * 100);\n",
              "      percent.textContent = `${percentDone}% done`;\n",
              "\n",
              "    } while (position < fileData.byteLength);\n",
              "  }\n",
              "\n",
              "  // All done.\n",
              "  yield {\n",
              "    response: {\n",
              "      action: 'complete',\n",
              "    }\n",
              "  };\n",
              "}\n",
              "\n",
              "scope.google = scope.google || {};\n",
              "scope.google.colab = scope.google.colab || {};\n",
              "scope.google.colab._files = {\n",
              "  _uploadFiles,\n",
              "  _uploadFilesContinue,\n",
              "};\n",
              "})(self);\n",
              "</script> "
            ]
          },
          "metadata": {}
        },
        {
          "output_type": "stream",
          "name": "stdout",
          "text": [
            "Saving basic (1).ics to basic (1).ics\n"
          ]
        }
      ]
    },
    {
      "cell_type": "markdown",
      "source": [
        "### И загрузка обратно"
      ],
      "metadata": {
        "id": "SSIjKQ3qs9sh"
      }
    },
    {
      "cell_type": "code",
      "source": [
        "files.download('basic (1).ics')"
      ],
      "metadata": {
        "colab": {
          "base_uri": "https://localhost:8080/",
          "height": 17
        },
        "id": "9jugCQmdsoQd",
        "outputId": "9ee49858-4b08-4b0a-ee22-395622058b6a"
      },
      "execution_count": null,
      "outputs": [
        {
          "output_type": "display_data",
          "data": {
            "text/plain": [
              "<IPython.core.display.Javascript object>"
            ],
            "application/javascript": [
              "\n",
              "    async function download(id, filename, size) {\n",
              "      if (!google.colab.kernel.accessAllowed) {\n",
              "        return;\n",
              "      }\n",
              "      const div = document.createElement('div');\n",
              "      const label = document.createElement('label');\n",
              "      label.textContent = `Downloading \"${filename}\": `;\n",
              "      div.appendChild(label);\n",
              "      const progress = document.createElement('progress');\n",
              "      progress.max = size;\n",
              "      div.appendChild(progress);\n",
              "      document.body.appendChild(div);\n",
              "\n",
              "      const buffers = [];\n",
              "      let downloaded = 0;\n",
              "\n",
              "      const channel = await google.colab.kernel.comms.open(id);\n",
              "      // Send a message to notify the kernel that we're ready.\n",
              "      channel.send({})\n",
              "\n",
              "      for await (const message of channel.messages) {\n",
              "        // Send a message to notify the kernel that we're ready.\n",
              "        channel.send({})\n",
              "        if (message.buffers) {\n",
              "          for (const buffer of message.buffers) {\n",
              "            buffers.push(buffer);\n",
              "            downloaded += buffer.byteLength;\n",
              "            progress.value = downloaded;\n",
              "          }\n",
              "        }\n",
              "      }\n",
              "      const blob = new Blob(buffers, {type: 'application/binary'});\n",
              "      const a = document.createElement('a');\n",
              "      a.href = window.URL.createObjectURL(blob);\n",
              "      a.download = filename;\n",
              "      div.appendChild(a);\n",
              "      a.click();\n",
              "      div.remove();\n",
              "    }\n",
              "  "
            ]
          },
          "metadata": {}
        },
        {
          "output_type": "display_data",
          "data": {
            "text/plain": [
              "<IPython.core.display.Javascript object>"
            ],
            "application/javascript": [
              "download(\"download_e4d3c81d-c26a-4e19-9001-8dd5a5224593\", \"basic (1).ics\", 20655)"
            ]
          },
          "metadata": {}
        }
      ]
    },
    {
      "cell_type": "markdown",
      "source": [
        "### Text cells..."
      ],
      "metadata": {
        "id": "YOz0CJQYlyD5"
      }
    },
    {
      "cell_type": "markdown",
      "source": [
        "текст"
      ],
      "metadata": {
        "id": "3VREUXWOt5xk"
      }
    },
    {
      "cell_type": "markdown",
      "source": [
        "`qweqwe`\n",
        "\n",
        "\n",
        "*   Новый пункт: ⚡\n",
        "*   Новый пункт: :\n",
        "\n"
      ],
      "metadata": {
        "id": "EZMQ_h0d6OoJ"
      }
    },
    {
      "cell_type": "markdown",
      "source": [
        "### Новый раздел"
      ],
      "metadata": {
        "id": "AmrOhJXxXW1h"
      }
    },
    {
      "cell_type": "markdown",
      "source": [
        "![image.png](data:image/png;base64,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)"
      ],
      "metadata": {
        "id": "ed__NtQ6udn9"
      }
    },
    {
      "cell_type": "markdown",
      "source": [
        "**test** *test* `test`\n",
        "\n",
        "`print(test)`\n",
        "\n",
        "\n",
        "[Текст ссылки](https://www.google.com)\n",
        "\n",
        "\n",
        "\n",
        "1.   Новый `пункт`\n",
        "2.   Новый пункт\n",
        "\n",
        "✅\n",
        "\n",
        "\n",
        "\n",
        "*   Новый пункт\n",
        "*   Новый пункт\n",
        "\n",
        "\n",
        "Einstein told us that $E = mc^4$.\n",
        "\n",
        "\n",
        "\n"
      ],
      "metadata": {
        "id": "YM1Gr4d-XY_L"
      }
    },
    {
      "cell_type": "markdown",
      "source": [
        "### Полезные возможности"
      ],
      "metadata": {
        "id": "jNUc83RKqbXh"
      }
    },
    {
      "cell_type": "markdown",
      "source": [
        "#### Просмотр исходников"
      ],
      "metadata": {
        "id": "BO-EV88arPui"
      }
    },
    {
      "cell_type": "code",
      "source": [
        "from sklearn.linear_model import LogisticRegression\n",
        "\n",
        "LogisticRegression??"
      ],
      "metadata": {
        "id": "ykfd2xYXk78e"
      },
      "execution_count": null,
      "outputs": []
    },
    {
      "cell_type": "markdown",
      "source": [
        "#### Установка библиотек\n"
      ],
      "metadata": {
        "id": "m54B4VXHrQhg"
      }
    },
    {
      "cell_type": "code",
      "source": [
        "import corus"
      ],
      "metadata": {
        "id": "Zd9VSZ43rVX0",
        "colab": {
          "base_uri": "https://localhost:8080/",
          "height": 314
        },
        "outputId": "9f4fc478-9b74-4bfe-e683-f53d1cfe8c2e"
      },
      "execution_count": null,
      "outputs": [
        {
          "output_type": "error",
          "ename": "ModuleNotFoundError",
          "evalue": "No module named 'corus'",
          "traceback": [
            "\u001b[0;31m---------------------------------------------------------------------------\u001b[0m",
            "\u001b[0;31mModuleNotFoundError\u001b[0m                       Traceback (most recent call last)",
            "\u001b[0;32m/tmp/ipython-input-1761358311.py\u001b[0m in \u001b[0;36m<cell line: 0>\u001b[0;34m()\u001b[0m\n\u001b[0;32m----> 1\u001b[0;31m \u001b[0;32mimport\u001b[0m \u001b[0mcorus\u001b[0m\u001b[0;34m\u001b[0m\u001b[0;34m\u001b[0m\u001b[0m\n\u001b[0m",
            "\u001b[0;31mModuleNotFoundError\u001b[0m: No module named 'corus'",
            "",
            "\u001b[0;31m---------------------------------------------------------------------------\u001b[0;32m\nNOTE: If your import is failing due to a missing package, you can\nmanually install dependencies using either !pip or !apt.\n\nTo view examples of installing some common dependencies, click the\n\"Open Examples\" button below.\n\u001b[0;31m---------------------------------------------------------------------------\u001b[0m\n"
          ],
          "errorDetails": {
            "actions": [
              {
                "action": "open_url",
                "actionText": "Open Examples",
                "url": "/notebooks/snippets/importing_libraries.ipynb"
              }
            ]
          }
        }
      ]
    },
    {
      "cell_type": "code",
      "source": [
        "!pip install corus"
      ],
      "metadata": {
        "id": "HHD0_NGclxhC",
        "colab": {
          "base_uri": "https://localhost:8080/"
        },
        "outputId": "fd4a2c51-9652-4c20-be71-c023fdf2787e"
      },
      "execution_count": null,
      "outputs": [
        {
          "output_type": "stream",
          "name": "stdout",
          "text": [
            "Collecting corus\n",
            "  Downloading corus-0.10.0-py3-none-any.whl.metadata (31 kB)\n",
            "Downloading corus-0.10.0-py3-none-any.whl (83 kB)\n",
            "\u001b[2K   \u001b[90m━━━━━━━━━━━━━━━━━━━━━━━━━━━━━━━━━━━━━━━━\u001b[0m \u001b[32m83.7/83.7 kB\u001b[0m \u001b[31m1.9 MB/s\u001b[0m eta \u001b[36m0:00:00\u001b[0m\n",
            "\u001b[?25hInstalling collected packages: corus\n",
            "Successfully installed corus-0.10.0\n"
          ]
        }
      ]
    },
    {
      "cell_type": "code",
      "source": [
        "import corus"
      ],
      "metadata": {
        "id": "SXfbaYgJlxke"
      },
      "execution_count": null,
      "outputs": []
    },
    {
      "cell_type": "markdown",
      "source": [
        "#### Магические команды"
      ],
      "metadata": {
        "id": "KPbef5hhrfJQ"
      }
    },
    {
      "cell_type": "code",
      "source": [
        "%lsmagic"
      ],
      "metadata": {
        "id": "n0vNDzOBlxm7",
        "colab": {
          "base_uri": "https://localhost:8080/",
          "height": 1000
        },
        "outputId": "c969484a-4d2d-49c8-f804-455836ed0efa"
      },
      "execution_count": null,
      "outputs": [
        {
          "output_type": "execute_result",
          "data": {
            "text/plain": [
              "Available line magics:\n",
              "%alias  %alias_magic  %autoawait  %autocall  %automagic  %autosave  %bookmark  %cat  %cd  %clear  %colors  %conda  %config  %connect_info  %cp  %debug  %dhist  %dirs  %doctest_mode  %ed  %edit  %env  %gui  %hist  %history  %killbgscripts  %ldir  %less  %lf  %lk  %ll  %load  %load_ext  %loadpy  %logoff  %logon  %logstart  %logstate  %logstop  %ls  %lsmagic  %lx  %macro  %magic  %man  %matplotlib  %memit  %mkdir  %more  %mprun  %mv  %notebook  %page  %pastebin  %pdb  %pdef  %pdoc  %pfile  %pinfo  %pinfo2  %pip  %popd  %pprint  %precision  %prun  %psearch  %psource  %pushd  %pwd  %pycat  %pylab  %qtconsole  %quickref  %recall  %rehashx  %reload_ext  %rep  %rerun  %reset  %reset_selective  %rm  %rmdir  %run  %save  %sc  %set_env  %shell  %store  %sx  %system  %tb  %tensorflow_version  %time  %timeit  %unalias  %unload_ext  %who  %who_ls  %whos  %xdel  %xmode\n",
              "\n",
              "Available cell magics:\n",
              "%%!  %%HTML  %%SVG  %%bash  %%bigquery  %%capture  %%debug  %%file  %%html  %%javascript  %%js  %%latex  %%markdown  %%memit  %%mprun  %%perl  %%prun  %%pypy  %%python  %%python2  %%python3  %%ruby  %%script  %%sh  %%shell  %%spanner_graph  %%svg  %%sx  %%system  %%time  %%timeit  %%writefile\n",
              "\n",
              "Automagic is ON, % prefix IS NOT needed for line magics."
            ],
            "application/json": {
              "line": {
                "automagic": "AutoMagics",
                "autocall": "AutoMagics",
                "alias_magic": "BasicMagics",
                "lsmagic": "BasicMagics",
                "magic": "BasicMagics",
                "page": "BasicMagics",
                "pprint": "BasicMagics",
                "colors": "BasicMagics",
                "xmode": "BasicMagics",
                "quickref": "BasicMagics",
                "doctest_mode": "BasicMagics",
                "gui": "BasicMagics",
                "precision": "BasicMagics",
                "notebook": "BasicMagics",
                "save": "CodeMagics",
                "pastebin": "CodeMagics",
                "loadpy": "CodeMagics",
                "load": "CodeMagics",
                "edit": "KernelMagics",
                "config": "ConfigMagics",
                "prun": "ExecutionMagics",
                "pdb": "ExecutionMagics",
                "debug": "ExecutionMagics",
                "tb": "ExecutionMagics",
                "run": "ExecutionMagics",
                "timeit": "ExecutionMagics",
                "time": "ExecutionMagics",
                "macro": "ExecutionMagics",
                "load_ext": "ExtensionMagics",
                "unload_ext": "ExtensionMagics",
                "reload_ext": "ExtensionMagics",
                "history": "HistoryMagics",
                "recall": "HistoryMagics",
                "rerun": "HistoryMagics",
                "logstart": "LoggingMagics",
                "logstop": "LoggingMagics",
                "logoff": "LoggingMagics",
                "logon": "LoggingMagics",
                "logstate": "LoggingMagics",
                "pinfo": "NamespaceMagics",
                "pinfo2": "NamespaceMagics",
                "pdef": "NamespaceMagics",
                "pdoc": "NamespaceMagics",
                "psource": "NamespaceMagics",
                "pfile": "NamespaceMagics",
                "psearch": "NamespaceMagics",
                "who_ls": "NamespaceMagics",
                "who": "NamespaceMagics",
                "whos": "NamespaceMagics",
                "reset": "NamespaceMagics",
                "reset_selective": "NamespaceMagics",
                "xdel": "NamespaceMagics",
                "alias": "OSMagics",
                "unalias": "OSMagics",
                "rehashx": "OSMagics",
                "pwd": "OSMagics",
                "cd": "OSMagics",
                "env": "OSMagics",
                "set_env": "OSMagics",
                "pushd": "OSMagics",
                "popd": "OSMagics",
                "dirs": "OSMagics",
                "dhist": "OSMagics",
                "sc": "OSMagics",
                "sx": "OSMagics",
                "system": "OSMagics",
                "bookmark": "OSMagics",
                "pycat": "OSMagics",
                "pip": "Other",
                "conda": "PackagingMagics",
                "matplotlib": "PylabMagics",
                "pylab": "PylabMagics",
                "killbgscripts": "ScriptMagics",
                "autoawait": "AsyncMagics",
                "ed": "Other",
                "hist": "Other",
                "rep": "Other",
                "clear": "KernelMagics",
                "less": "KernelMagics",
                "more": "KernelMagics",
                "man": "KernelMagics",
                "connect_info": "KernelMagics",
                "qtconsole": "KernelMagics",
                "autosave": "KernelMagics",
                "mkdir": "Other",
                "rmdir": "Other",
                "mv": "Other",
                "rm": "Other",
                "cp": "Other",
                "cat": "Other",
                "ls": "Other",
                "ll": "Other",
                "lf": "Other",
                "lk": "Other",
                "ldir": "Other",
                "lx": "Other",
                "store": "StoreMagics",
                "shell": "Other",
                "tensorflow_version": "Other",
                "mprun": "MemoryProfilerMagics",
                "memit": "MemoryProfilerMagics"
              },
              "cell": {
                "js": "DisplayMagics",
                "javascript": "DisplayMagics",
                "latex": "DisplayMagics",
                "svg": "DisplayMagics",
                "html": "DisplayMagics",
                "markdown": "DisplayMagics",
                "prun": "ExecutionMagics",
                "debug": "ExecutionMagics",
                "timeit": "ExecutionMagics",
                "time": "ExecutionMagics",
                "capture": "ExecutionMagics",
                "sx": "OSMagics",
                "system": "OSMagics",
                "!": "OSMagics",
                "writefile": "OSMagics",
                "script": "ScriptMagics",
                "sh": "Other",
                "bash": "Other",
                "perl": "Other",
                "ruby": "Other",
                "python": "Other",
                "python2": "Other",
                "python3": "Other",
                "pypy": "Other",
                "SVG": "Other",
                "HTML": "Other",
                "file": "Other",
                "bigquery": "Other",
                "spanner_graph": "Other",
                "shell": "Other",
                "mprun": "MemoryProfilerMagics",
                "memit": "MemoryProfilerMagics"
              }
            }
          },
          "metadata": {},
          "execution_count": 33
        }
      ]
    },
    {
      "cell_type": "markdown",
      "source": [
        "#### Контроль тайминга"
      ],
      "metadata": {
        "id": "AgV5iW33ruq3"
      }
    },
    {
      "cell_type": "code",
      "source": [
        "import time"
      ],
      "metadata": {
        "id": "kk9FcE7gryzZ"
      },
      "execution_count": null,
      "outputs": []
    },
    {
      "cell_type": "code",
      "source": [
        "%%time\n",
        "\n",
        "time.sleep(2)"
      ],
      "metadata": {
        "id": "YKQ7qn9MreVz",
        "colab": {
          "base_uri": "https://localhost:8080/"
        },
        "outputId": "a5f0f7b6-822f-4e2d-956b-1e70716cd782"
      },
      "execution_count": null,
      "outputs": [
        {
          "output_type": "stream",
          "name": "stdout",
          "text": [
            "CPU times: user 167 µs, sys: 0 ns, total: 167 µs\n",
            "Wall time: 2 s\n"
          ]
        }
      ]
    },
    {
      "cell_type": "code",
      "source": [
        "def fun():\n",
        "  res = 0\n",
        "  for i in range(1, 101):\n",
        "    res += i\n",
        "  return res"
      ],
      "metadata": {
        "id": "uMpYRiMjreY6"
      },
      "execution_count": null,
      "outputs": []
    },
    {
      "cell_type": "code",
      "source": [
        "%timeit fun()"
      ],
      "metadata": {
        "id": "29Pl7a2xrebz",
        "colab": {
          "base_uri": "https://localhost:8080/"
        },
        "outputId": "95a8cedb-c3c8-4266-995e-1ace2e1a0c0e"
      },
      "execution_count": null,
      "outputs": [
        {
          "output_type": "stream",
          "name": "stdout",
          "text": [
            "3.25 µs ± 91.9 ns per loop (mean ± std. dev. of 7 runs, 100000 loops each)\n"
          ]
        }
      ]
    },
    {
      "cell_type": "code",
      "source": [
        "def fun_1():\n",
        "  res = 0\n",
        "  for i in range(3):\n",
        "    time.sleep(3)\n",
        "  fun()\n",
        "  return res"
      ],
      "metadata": {
        "id": "PtaimEjvsADY"
      },
      "execution_count": null,
      "outputs": []
    },
    {
      "cell_type": "code",
      "source": [
        "%prun fun_1()"
      ],
      "metadata": {
        "id": "BWmhE3MCsAGj",
        "colab": {
          "base_uri": "https://localhost:8080/"
        },
        "outputId": "cdf5e8de-e60a-43ed-935e-8ffa5526ee97"
      },
      "execution_count": null,
      "outputs": [
        {
          "output_type": "stream",
          "name": "stdout",
          "text": [
            " "
          ]
        }
      ]
    },
    {
      "cell_type": "markdown",
      "source": [
        "#### Профилирование памяти"
      ],
      "metadata": {
        "id": "LN_JnfYFuhu0"
      }
    },
    {
      "cell_type": "code",
      "source": [
        "!pip install memory-profiler"
      ],
      "metadata": {
        "id": "vTpAMNPdtYhy",
        "colab": {
          "base_uri": "https://localhost:8080/"
        },
        "outputId": "02bf0f10-994c-4e6c-e1e3-0a23487b7378"
      },
      "execution_count": null,
      "outputs": [
        {
          "output_type": "stream",
          "name": "stdout",
          "text": [
            "Requirement already satisfied: memory-profiler in /usr/local/lib/python3.12/dist-packages (0.61.0)\n",
            "Requirement already satisfied: psutil in /usr/local/lib/python3.12/dist-packages (from memory-profiler) (5.9.5)\n"
          ]
        }
      ]
    },
    {
      "cell_type": "code",
      "source": [
        "%load_ext memory_profiler"
      ],
      "metadata": {
        "id": "agV2Uh8etT6R",
        "colab": {
          "base_uri": "https://localhost:8080/"
        },
        "outputId": "82b0a25e-4e33-4e10-b109-139516d8f0a8"
      },
      "execution_count": null,
      "outputs": [
        {
          "output_type": "stream",
          "name": "stdout",
          "text": [
            "The memory_profiler extension is already loaded. To reload it, use:\n",
            "  %reload_ext memory_profiler\n"
          ]
        }
      ]
    },
    {
      "cell_type": "code",
      "source": [
        "%%writefile pythoncode.py\n",
        "\n",
        "import numpy\n",
        "\n",
        "\n",
        "def append_if_not_exists(arr, x):\n",
        "    if x not in arr:\n",
        "        arr.append(x)\n",
        "\n",
        "def some_useless_slow_function():\n",
        "    arr = list()\n",
        "    for i in range(10000):\n",
        "        x = numpy.random.randint(0, 10000)\n",
        "        append_if_not_exists(arr, x)"
      ],
      "metadata": {
        "id": "WIPSx6uasAJF",
        "colab": {
          "base_uri": "https://localhost:8080/"
        },
        "outputId": "d00e4c9d-736f-4f69-d9f3-0ee0081e2343"
      },
      "execution_count": null,
      "outputs": [
        {
          "output_type": "stream",
          "name": "stdout",
          "text": [
            "Overwriting pythoncode.py\n"
          ]
        }
      ]
    },
    {
      "cell_type": "code",
      "source": [
        "%pycat pythoncode.py"
      ],
      "metadata": {
        "id": "tSbJlxaSt9Lu"
      },
      "execution_count": null,
      "outputs": []
    },
    {
      "cell_type": "code",
      "source": [
        "from pythoncode import some_useless_slow_function, append_if_not_exists"
      ],
      "metadata": {
        "id": "2669_k2duE6G"
      },
      "execution_count": null,
      "outputs": []
    },
    {
      "cell_type": "code",
      "source": [
        "%mprun -f append_if_not_exists some_useless_slow_function()"
      ],
      "metadata": {
        "id": "xanHy8AQsALy",
        "colab": {
          "base_uri": "https://localhost:8080/"
        },
        "outputId": "f724856d-46ac-47b6-aa1b-b0fe08eb7ee2"
      },
      "execution_count": null,
      "outputs": [
        {
          "output_type": "stream",
          "name": "stdout",
          "text": [
            "\n"
          ]
        }
      ]
    },
    {
      "cell_type": "markdown",
      "source": [
        "#### Интерактивный дебаггинг"
      ],
      "metadata": {
        "id": "a0SsrPV7ubY9"
      }
    },
    {
      "cell_type": "code",
      "source": [
        "pick_and_take()"
      ],
      "metadata": {
        "colab": {
          "base_uri": "https://localhost:8080/",
          "height": 490
        },
        "id": "wA4MNVvsyyaq",
        "outputId": "f65efbde-7447-49c0-d545-b1f60e97ae68"
      },
      "execution_count": null,
      "outputs": [
        {
          "output_type": "error",
          "ename": "NameError",
          "evalue": "name 'numpy' is not defined",
          "traceback": [
            "\u001b[0;31m---------------------------------------------------------------------------\u001b[0m",
            "\u001b[0;31mNameError\u001b[0m                                 Traceback (most recent call last)",
            "\u001b[0;32m/tmp/ipython-input-537899173.py\u001b[0m in \u001b[0;36m<cell line: 0>\u001b[0;34m()\u001b[0m\n\u001b[0;32m----> 1\u001b[0;31m \u001b[0mpick_and_take\u001b[0m\u001b[0;34m(\u001b[0m\u001b[0;34m)\u001b[0m\u001b[0;34m\u001b[0m\u001b[0;34m\u001b[0m\u001b[0m\n\u001b[0m",
            "\u001b[0;32m/tmp/ipython-input-1469534914.py\u001b[0m in \u001b[0;36mpick_and_take\u001b[0;34m()\u001b[0m\n\u001b[1;32m      3\u001b[0m \u001b[0;32mdef\u001b[0m \u001b[0mpick_and_take\u001b[0m\u001b[0;34m(\u001b[0m\u001b[0;34m)\u001b[0m\u001b[0;34m:\u001b[0m\u001b[0;34m\u001b[0m\u001b[0;34m\u001b[0m\u001b[0m\n\u001b[1;32m      4\u001b[0m     \u001b[0ma\u001b[0m \u001b[0;34m=\u001b[0m \u001b[0;36m1\u001b[0m\u001b[0;34m\u001b[0m\u001b[0;34m\u001b[0m\u001b[0m\n\u001b[0;32m----> 5\u001b[0;31m     \u001b[0mpicked\u001b[0m \u001b[0;34m=\u001b[0m \u001b[0mnumpy\u001b[0m\u001b[0;34m.\u001b[0m\u001b[0mrandom\u001b[0m\u001b[0;34m.\u001b[0m\u001b[0mrandint\u001b[0m\u001b[0;34m(\u001b[0m\u001b[0;36m0\u001b[0m\u001b[0;34m,\u001b[0m \u001b[0;36m1000\u001b[0m\u001b[0;34m)\u001b[0m\u001b[0;34m\u001b[0m\u001b[0;34m\u001b[0m\u001b[0m\n\u001b[0m\u001b[1;32m      6\u001b[0m     \u001b[0;32mraise\u001b[0m \u001b[0mNotImplementedError\u001b[0m\u001b[0;34m(\u001b[0m\u001b[0;34m)\u001b[0m\u001b[0;34m\u001b[0m\u001b[0;34m\u001b[0m\u001b[0m\n\u001b[1;32m      7\u001b[0m \u001b[0;34m\u001b[0m\u001b[0m\n",
            "\u001b[0;31mNameError\u001b[0m: name 'numpy' is not defined"
          ]
        },
        {
          "output_type": "stream",
          "name": "stdout",
          "text": [
            "> \u001b[0;32m/tmp/ipython-input-1469534914.py\u001b[0m(5)\u001b[0;36mpick_and_take\u001b[0;34m()\u001b[0m\n",
            "\u001b[0;32m      3 \u001b[0;31m\u001b[0;32mdef\u001b[0m \u001b[0mpick_and_take\u001b[0m\u001b[0;34m(\u001b[0m\u001b[0;34m)\u001b[0m\u001b[0;34m:\u001b[0m\u001b[0;34m\u001b[0m\u001b[0;34m\u001b[0m\u001b[0m\n",
            "\u001b[0m\u001b[0;32m      4 \u001b[0;31m    \u001b[0ma\u001b[0m \u001b[0;34m=\u001b[0m \u001b[0;36m1\u001b[0m\u001b[0;34m\u001b[0m\u001b[0;34m\u001b[0m\u001b[0m\n",
            "\u001b[0m\u001b[0;32m----> 5 \u001b[0;31m    \u001b[0mpicked\u001b[0m \u001b[0;34m=\u001b[0m \u001b[0mnumpy\u001b[0m\u001b[0;34m.\u001b[0m\u001b[0mrandom\u001b[0m\u001b[0;34m.\u001b[0m\u001b[0mrandint\u001b[0m\u001b[0;34m(\u001b[0m\u001b[0;36m0\u001b[0m\u001b[0;34m,\u001b[0m \u001b[0;36m1000\u001b[0m\u001b[0;34m)\u001b[0m\u001b[0;34m\u001b[0m\u001b[0;34m\u001b[0m\u001b[0m\n",
            "\u001b[0m\u001b[0;32m      6 \u001b[0;31m    \u001b[0;32mraise\u001b[0m \u001b[0mNotImplementedError\u001b[0m\u001b[0;34m(\u001b[0m\u001b[0;34m)\u001b[0m\u001b[0;34m\u001b[0m\u001b[0;34m\u001b[0m\u001b[0m\n",
            "\u001b[0m\u001b[0;32m      7 \u001b[0;31m\u001b[0;34m\u001b[0m\u001b[0m\n",
            "\u001b[0m\n",
            "ipdb> print(a)\n",
            "1\n",
            "--KeyboardInterrupt--\n",
            "\n",
            "KeyboardInterrupt: Interrupted by user\n"
          ]
        }
      ]
    },
    {
      "cell_type": "code",
      "source": [
        "%pdb\n",
        "\n",
        "def pick_and_take():\n",
        "    a = 1\n",
        "    picked = numpy.random.randint(0, 1000)\n",
        "    raise NotImplementedError()\n",
        "\n",
        "pick_and_take()"
      ],
      "metadata": {
        "id": "ixe9bjR-sAOO",
        "colab": {
          "base_uri": "https://localhost:8080/",
          "height": 507
        },
        "outputId": "4f891604-11cd-4be9-8674-e79dcc7e3fd4"
      },
      "execution_count": null,
      "outputs": [
        {
          "output_type": "stream",
          "name": "stdout",
          "text": [
            "Automatic pdb calling has been turned ON\n"
          ]
        },
        {
          "output_type": "error",
          "ename": "NameError",
          "evalue": "name 'numpy' is not defined",
          "traceback": [
            "\u001b[0;31m---------------------------------------------------------------------------\u001b[0m",
            "\u001b[0;31mNameError\u001b[0m                                 Traceback (most recent call last)",
            "\u001b[0;32m/tmp/ipython-input-1469534914.py\u001b[0m in \u001b[0;36m<cell line: 0>\u001b[0;34m()\u001b[0m\n\u001b[1;32m      6\u001b[0m     \u001b[0;32mraise\u001b[0m \u001b[0mNotImplementedError\u001b[0m\u001b[0;34m(\u001b[0m\u001b[0;34m)\u001b[0m\u001b[0;34m\u001b[0m\u001b[0;34m\u001b[0m\u001b[0m\n\u001b[1;32m      7\u001b[0m \u001b[0;34m\u001b[0m\u001b[0m\n\u001b[0;32m----> 8\u001b[0;31m \u001b[0mpick_and_take\u001b[0m\u001b[0;34m(\u001b[0m\u001b[0;34m)\u001b[0m\u001b[0;34m\u001b[0m\u001b[0;34m\u001b[0m\u001b[0m\n\u001b[0m",
            "\u001b[0;32m/tmp/ipython-input-1469534914.py\u001b[0m in \u001b[0;36mpick_and_take\u001b[0;34m()\u001b[0m\n\u001b[1;32m      3\u001b[0m \u001b[0;32mdef\u001b[0m \u001b[0mpick_and_take\u001b[0m\u001b[0;34m(\u001b[0m\u001b[0;34m)\u001b[0m\u001b[0;34m:\u001b[0m\u001b[0;34m\u001b[0m\u001b[0;34m\u001b[0m\u001b[0m\n\u001b[1;32m      4\u001b[0m     \u001b[0ma\u001b[0m \u001b[0;34m=\u001b[0m \u001b[0;36m1\u001b[0m\u001b[0;34m\u001b[0m\u001b[0;34m\u001b[0m\u001b[0m\n\u001b[0;32m----> 5\u001b[0;31m     \u001b[0mpicked\u001b[0m \u001b[0;34m=\u001b[0m \u001b[0mnumpy\u001b[0m\u001b[0;34m.\u001b[0m\u001b[0mrandom\u001b[0m\u001b[0;34m.\u001b[0m\u001b[0mrandint\u001b[0m\u001b[0;34m(\u001b[0m\u001b[0;36m0\u001b[0m\u001b[0;34m,\u001b[0m \u001b[0;36m1000\u001b[0m\u001b[0;34m)\u001b[0m\u001b[0;34m\u001b[0m\u001b[0;34m\u001b[0m\u001b[0m\n\u001b[0m\u001b[1;32m      6\u001b[0m     \u001b[0;32mraise\u001b[0m \u001b[0mNotImplementedError\u001b[0m\u001b[0;34m(\u001b[0m\u001b[0;34m)\u001b[0m\u001b[0;34m\u001b[0m\u001b[0;34m\u001b[0m\u001b[0m\n\u001b[1;32m      7\u001b[0m \u001b[0;34m\u001b[0m\u001b[0m\n",
            "\u001b[0;31mNameError\u001b[0m: name 'numpy' is not defined"
          ]
        },
        {
          "output_type": "stream",
          "name": "stdout",
          "text": [
            "> \u001b[0;32m/tmp/ipython-input-1469534914.py\u001b[0m(5)\u001b[0;36mpick_and_take\u001b[0;34m()\u001b[0m\n",
            "\u001b[0;32m      3 \u001b[0;31m\u001b[0;32mdef\u001b[0m \u001b[0mpick_and_take\u001b[0m\u001b[0;34m(\u001b[0m\u001b[0;34m)\u001b[0m\u001b[0;34m:\u001b[0m\u001b[0;34m\u001b[0m\u001b[0;34m\u001b[0m\u001b[0m\n",
            "\u001b[0m\u001b[0;32m      4 \u001b[0;31m    \u001b[0ma\u001b[0m \u001b[0;34m=\u001b[0m \u001b[0;36m1\u001b[0m\u001b[0;34m\u001b[0m\u001b[0;34m\u001b[0m\u001b[0m\n",
            "\u001b[0m\u001b[0;32m----> 5 \u001b[0;31m    \u001b[0mpicked\u001b[0m \u001b[0;34m=\u001b[0m \u001b[0mnumpy\u001b[0m\u001b[0;34m.\u001b[0m\u001b[0mrandom\u001b[0m\u001b[0;34m.\u001b[0m\u001b[0mrandint\u001b[0m\u001b[0;34m(\u001b[0m\u001b[0;36m0\u001b[0m\u001b[0;34m,\u001b[0m \u001b[0;36m1000\u001b[0m\u001b[0;34m)\u001b[0m\u001b[0;34m\u001b[0m\u001b[0;34m\u001b[0m\u001b[0m\n",
            "\u001b[0m\u001b[0;32m      6 \u001b[0;31m    \u001b[0;32mraise\u001b[0m \u001b[0mNotImplementedError\u001b[0m\u001b[0;34m(\u001b[0m\u001b[0;34m)\u001b[0m\u001b[0;34m\u001b[0m\u001b[0;34m\u001b[0m\u001b[0m\n",
            "\u001b[0m\u001b[0;32m      7 \u001b[0;31m\u001b[0;34m\u001b[0m\u001b[0m\n",
            "\u001b[0m\n",
            "--KeyboardInterrupt--\n",
            "\n",
            "KeyboardInterrupt: Interrupted by user\n"
          ]
        }
      ]
    },
    {
      "cell_type": "markdown",
      "source": [
        "### Фрагменты кода и виджеты"
      ],
      "metadata": {
        "id": "HhHCAT23yFgZ"
      }
    },
    {
      "cell_type": "code",
      "source": [
        "#@title Colab forms\n",
        "lr = 0.01  #@param {type:\"number\"}\n",
        "n_estimators = 150  #@param {type:\"slider\", min:50, max:500, step:50}"
      ],
      "metadata": {
        "id": "BBlHY2O8kRwC"
      },
      "execution_count": null,
      "outputs": []
    },
    {
      "cell_type": "markdown",
      "source": [
        "[Пример](https://colab.research.google.com/github/soiqualang/colab/blob/master/form.ipynb)"
      ],
      "metadata": {
        "id": "ZRk2WDUCkc7t"
      }
    },
    {
      "cell_type": "markdown",
      "source": [
        "#### Jupyter widgets"
      ],
      "metadata": {
        "id": "KcEVllJwyJQs"
      }
    },
    {
      "cell_type": "code",
      "source": [
        "import ipywidgets as widgets\n",
        "\n",
        "slider = widgets.IntSlider(20, min=0, max=100)\n",
        "slider"
      ],
      "metadata": {
        "id": "-W8wrrO7x3NM",
        "colab": {
          "base_uri": "https://localhost:8080/",
          "height": 49,
          "referenced_widgets": [
            "a8f5509f994a4f728e1e2b7b8299fa45",
            "b00537f06d0342aba77f1bcb1e9607ff",
            "fbc95167a0b74f3e908e10207af8aa90"
          ]
        },
        "outputId": "8389aa49-d0f1-4508-f310-b24db26797be"
      },
      "execution_count": null,
      "outputs": [
        {
          "output_type": "display_data",
          "data": {
            "text/plain": [
              "IntSlider(value=20)"
            ],
            "application/vnd.jupyter.widget-view+json": {
              "version_major": 2,
              "version_minor": 0,
              "model_id": "a8f5509f994a4f728e1e2b7b8299fa45"
            }
          },
          "metadata": {}
        }
      ]
    },
    {
      "cell_type": "code",
      "source": [
        "slider.value"
      ],
      "metadata": {
        "id": "Jk_2DyjDx5BG",
        "colab": {
          "base_uri": "https://localhost:8080/"
        },
        "outputId": "8e72224d-99a1-4e59-ed2b-50008bd87a83"
      },
      "execution_count": null,
      "outputs": [
        {
          "output_type": "execute_result",
          "data": {
            "text/plain": [
              "36"
            ]
          },
          "metadata": {},
          "execution_count": 50
        }
      ]
    },
    {
      "cell_type": "code",
      "source": [
        "import altair as alt\n",
        "import ipywidgets as widgets\n",
        "from vega_datasets import data\n",
        "\n",
        "source = data.stocks()\n",
        "\n",
        "stock_picker = widgets.SelectMultiple(\n",
        "    options=source.symbol.unique(),\n",
        "    value=list(source.symbol.unique()),\n",
        "    description='Symbols')\n",
        "\n",
        "# The value of symbols will come from the stock_picker.\n",
        "@widgets.interact(symbols=stock_picker)\n",
        "def render(symbols):\n",
        "  selected = source[source.symbol.isin(list(symbols))]\n",
        "\n",
        "  return alt.Chart(selected).mark_line().encode(\n",
        "      x='date',\n",
        "      y='price',\n",
        "      color='symbol',\n",
        "      strokeDash='symbol',\n",
        "  )"
      ],
      "metadata": {
        "id": "vrSPSMA8x-L5",
        "colab": {
          "base_uri": "https://localhost:8080/",
          "height": 462,
          "referenced_widgets": [
            "a75fa45e53814a73a9805d5ee00ecfab",
            "c5129bdc2fd1432f8de486e95fff2e7e",
            "8afcdcf0ab414201912d1a552957b4c3",
            "be15a4e6f3ab4bc4a1c9404c8935d0a8",
            "37f82558bdab4dfda9acb79cf4d98fa9",
            "bdadda7e29aa407383b0ebbc5d29108d",
            "bbcb5d436bfd4f268fa491de75044b5c"
          ]
        },
        "outputId": "2f99b775-f6dc-4449-ade9-01c9076abac0"
      },
      "execution_count": null,
      "outputs": [
        {
          "output_type": "display_data",
          "data": {
            "text/plain": [
              "interactive(children=(SelectMultiple(description='Symbols', index=(0, 1, 2, 3, 4), options=('MSFT', 'AMZN', 'I…"
            ],
            "application/vnd.jupyter.widget-view+json": {
              "version_major": 2,
              "version_minor": 0,
              "model_id": "a75fa45e53814a73a9805d5ee00ecfab"
            }
          },
          "metadata": {}
        }
      ]
    },
    {
      "cell_type": "markdown",
      "source": [
        "### Дополнительные материалы\n",
        "\n",
        "[Colab&latex](https://colab.research.google.com/github/bebi103a/bebi103a.github.io/blob/master/lessons/00/intro_to_latex.ipynb)\n",
        "\n",
        "[Питон, панды и анаконда: что внутри у Jupyter Notebook](https://practicum.yandex.ru/blog/chto-takoe-jupyter-notebook/)"
      ],
      "metadata": {
        "id": "AdMDMyWxoSo2"
      }
    },
    {
      "cell_type": "code",
      "source": [],
      "metadata": {
        "id": "SgIBqndf7uon"
      },
      "execution_count": null,
      "outputs": []
    }
  ]
}